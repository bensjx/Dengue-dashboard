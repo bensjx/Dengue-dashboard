{
 "cells": [
  {
   "cell_type": "code",
   "execution_count": 1,
   "metadata": {},
   "outputs": [
    {
     "output_type": "error",
     "ename": "ModuleNotFoundError",
     "evalue": "No module named 'geopandas'",
     "traceback": [
      "\u001b[1;31m---------------------------------------------------------------------------\u001b[0m",
      "\u001b[1;31mModuleNotFoundError\u001b[0m                       Traceback (most recent call last)",
      "\u001b[1;32m<ipython-input-1-5aebba997fb1>\u001b[0m in \u001b[0;36m<module>\u001b[1;34m\u001b[0m\n\u001b[0;32m      1\u001b[0m \u001b[1;31m# General libraries\u001b[0m\u001b[1;33m\u001b[0m\u001b[1;33m\u001b[0m\u001b[0m\n\u001b[0;32m      2\u001b[0m \u001b[1;32mimport\u001b[0m \u001b[0mpandas\u001b[0m \u001b[1;32mas\u001b[0m \u001b[0mpd\u001b[0m\u001b[1;33m\u001b[0m\u001b[0m\n\u001b[1;32m----> 3\u001b[1;33m \u001b[1;32mimport\u001b[0m \u001b[0mgeopandas\u001b[0m \u001b[1;32mas\u001b[0m \u001b[0mgpd\u001b[0m\u001b[1;33m\u001b[0m\u001b[0m\n\u001b[0m\u001b[0;32m      4\u001b[0m \u001b[1;32mimport\u001b[0m \u001b[0mregex\u001b[0m \u001b[1;32mas\u001b[0m \u001b[0mre\u001b[0m\u001b[1;33m\u001b[0m\u001b[0m\n",
      "\u001b[1;31mModuleNotFoundError\u001b[0m: No module named 'geopandas'"
     ]
    }
   ],
   "source": [
    "# General libraries\n",
    "import pandas as pd\n",
    "import geopandas as gpd\n",
    "import regex as re\n"
   ]
  },
  {
   "cell_type": "code",
   "execution_count": 2,
   "metadata": {},
   "outputs": [],
   "source": [
    "central_cases = gpd.read_file(\"data/dengue-cases-central-geojson.geojson\")"
   ]
  },
  {
   "cell_type": "code",
   "execution_count": 21,
   "metadata": {},
   "outputs": [
    {
     "output_type": "execute_result",
     "data": {
      "text/plain": "807"
     },
     "metadata": {},
     "execution_count": 21
    }
   ],
   "source": [
    "sum(central_cases.Description.map(lambda x: int(re.search(r\"(<td>.*?</td>)\", x).group(0)[4:-5])))"
   ]
  },
  {
   "cell_type": "code",
   "execution_count": null,
   "metadata": {},
   "outputs": [],
   "source": [
    "import tweepy as tw\n",
    "import pprint\n",
    "\n",
    "from keys import (\n",
    "    twitter_consumer_key,\n",
    "    twitter_consumer_secret,\n",
    "    twitter_access_token,\n",
    "    twitter_access_token_secret,\n",
    ")\n",
    "\n",
    "auth = tw.OAuthHandler(twitter_consumer_key, twitter_consumer_secret)\n",
    "auth.set_access_token(twitter_access_token, twitter_access_token_secret)\n",
    "api = tw.API(auth, wait_on_rate_limit=True)"
   ]
  },
  {
   "cell_type": "code",
   "execution_count": 38,
   "metadata": {
    "tags": []
   },
   "outputs": [
    {
     "output_type": "stream",
     "name": "stdout",
     "text": "{'contributors': None,\n 'coordinates': None,\n 'created_at': 'Thu Aug 06 15:18:49 +0000 2020',\n 'entities': {'hashtags': [],\n              'symbols': [],\n              'urls': [{'display_url': 'news18.com/news/india/31-…',\n                        'expanded_url': 'https://www.news18.com/news/india/31-dengue-cases-in-delhi-till-august-1-fever-clinics-set-up-campaigns-intensified-2764327.html',\n                        'indices': [93, 116],\n                        'url': 'https://t.co/xyNbt9TYtG'}],\n              'user_mentions': []},\n 'favorite_count': 0,\n 'favorited': False,\n 'geo': None,\n 'id': 1291393298683162626,\n 'id_str': '1291393298683162626',\n 'in_reply_to_screen_name': None,\n 'in_reply_to_status_id': None,\n 'in_reply_to_status_id_str': None,\n 'in_reply_to_user_id': None,\n 'in_reply_to_user_id_str': None,\n 'is_quote_status': False,\n 'lang': 'en',\n 'metadata': {'iso_language_code': 'en', 'result_type': 'recent'},\n 'place': None,\n 'possibly_sensitive': False,\n 'retweet_count': 0,\n 'retweeted': False,\n 'source': '<a href=\"https://about.twitter.com/products/tweetdeck\" '\n           'rel=\"nofollow\">TweetDeck</a>',\n 'text': 'Over 30 cases of dengue have been reported in the national capital '\n         'till August 1 this year.\\n'\n         '\\n'\n         'https://t.co/xyNbt9TYtG',\n 'truncated': False,\n 'user': {'contributors_enabled': False,\n          'created_at': 'Wed Apr 20 06:14:32 +0000 2011',\n          'default_profile': True,\n          'default_profile_image': False,\n          'description': 'More than just news, analysis & opinion. The digital '\n                         'platform of @CNNnews18\\n'\n                         '\\n'\n                         \"We're now on Telegram: https://t.co/4JMWUefhbD\",\n          'entities': {'description': {'urls': [{'display_url': 't.me/news18dotcom',\n                                                 'expanded_url': 'https://t.me/news18dotcom',\n                                                 'indices': [100, 123],\n                                                 'url': 'https://t.co/4JMWUefhbD'}]},\n                       'url': {'urls': [{'display_url': 'news18.com',\n                                         'expanded_url': 'https://www.news18.com',\n                                         'indices': [0, 23],\n                                         'url': 'https://t.co/0HnxPgwuLD'}]}},\n          'favourites_count': 41,\n          'follow_request_sent': False,\n          'followers_count': 143838,\n          'following': False,\n          'friends_count': 167,\n          'geo_enabled': False,\n          'has_extended_profile': False,\n          'id': 284920800,\n          'id_str': '284920800',\n          'is_translation_enabled': False,\n          'is_translator': False,\n          'lang': None,\n          'listed_count': 788,\n          'location': 'India',\n          'name': 'News18.com',\n          'notifications': False,\n          'profile_background_color': 'C0DEED',\n          'profile_background_image_url': 'http://abs.twimg.com/images/themes/theme1/bg.png',\n          'profile_background_image_url_https': 'https://abs.twimg.com/images/themes/theme1/bg.png',\n          'profile_background_tile': False,\n          'profile_banner_url': 'https://pbs.twimg.com/profile_banners/284920800/1578042922',\n          'profile_image_url': 'http://pbs.twimg.com/profile_images/1162274270212308993/VISZ-o80_normal.jpg',\n          'profile_image_url_https': 'https://pbs.twimg.com/profile_images/1162274270212308993/VISZ-o80_normal.jpg',\n          'profile_link_color': '1DA1F2',\n          'profile_sidebar_border_color': 'C0DEED',\n          'profile_sidebar_fill_color': 'DDEEF6',\n          'profile_text_color': '333333',\n          'profile_use_background_image': True,\n          'protected': False,\n          'screen_name': 'news18dotcom',\n          'statuses_count': 156439,\n          'time_zone': None,\n          'translator_type': 'none',\n          'url': 'https://t.co/0HnxPgwuLD',\n          'utc_offset': None,\n          'verified': True}}\n"
    }
   ],
   "source": [
    "search_term = \"dengue -filter:retweets\"\n",
    "\n",
    "tweets = tw.Cursor(api.search,\n",
    "                   q=search_term,\n",
    "                   lang=\"en\",\n",
    "                   since='2018-04-23').items(1)\n",
    "\n",
    "all_tweets = [tweet for tweet in tweets]\n",
    "pprint.pprint(all_tweets[0]._json)"
   ]
  },
  {
   "cell_type": "code",
   "execution_count": 36,
   "metadata": {},
   "outputs": [],
   "source": [
    "\n",
    "# # This is Main function.\n",
    "# # Extracting streaming data from Twitter, pre-processing, and loading into MySQL\n",
    "import keys\n",
    "# import settings # Import related setting constants from settings.py \n",
    "\n",
    "import re\n",
    "import tweepy\n",
    "import mysql.connector\n",
    "import pandas as pd\n",
    "from textblob import TextBlob\n",
    "from googletrans import Translator\n",
    "# Streaming With Tweepy \n",
    "# http://docs.tweepy.org/en/v3.4.0/streaming_how_to.html#streaming-with-tweepy"
   ]
  },
  {
   "cell_type": "code",
   "execution_count": 39,
   "metadata": {},
   "outputs": [],
   "source": [
    "# Override tweepy.StreamListener to add logic to on_status\n",
    "class MyStreamListener(tweepy.StreamListener):\n",
    "    '''\n",
    "    Tweets are known as “status updates”. So the Status class in tweepy has properties describing the tweet.\n",
    "    https://developer.twitter.com/en/docs/tweets/data-dictionary/overview/tweet-object.html\n",
    "    '''\n",
    "    \n",
    "    def on_status(self, status):\n",
    "        '''\n",
    "        Extract info from tweets\n",
    "        '''\n",
    "        \n",
    "        if status.retweeted:\n",
    "            # Avoid retweeted info, and only original tweets will be received\n",
    "            return True\n",
    "        # Extract attributes from each tweet\n",
    "        id_str = status.id_str\n",
    "        created_at = status.created_at\n",
    "        text = deEmojify(status.text)    # Pre-processing the text  \n",
    "        sentiment = TextBlob(text).sentiment\n",
    "        polarity = sentiment.polarity\n",
    "        subjectivity = sentiment.subjectivity\n",
    "        \n",
    "        user_created_at = status.user.created_at\n",
    "        user_location = deEmojify(status.user.location)\n",
    "        user_description = deEmojify(status.user.description)\n",
    "        user_followers_count =status.user.followers_count\n",
    "        longitude = None\n",
    "        latitude = None\n",
    "        if status.coordinates:\n",
    "            longitude = status.coordinates['coordinates'][0]\n",
    "            latitude = status.coordinates['coordinates'][1]\n",
    "            \n",
    "        retweet_count = status.retweet_count\n",
    "        favorite_count = status.favorite_count\n",
    "\n",
    "        translator = Translator()\n",
    "\n",
    "        print(translator.translate(status.text, dest='en').text)\n",
    "        print(\"Long: {}, Lati: {}\".format(longitude, latitude))\n",
    "        \n",
    "        # Store all data in MySQL\n",
    "        if mydb.is_connected():\n",
    "            mycursor = mydb.cursor()\n",
    "            sql = \"INSERT INTO {} (id_str, created_at, text, polarity, subjectivity, user_created_at, user_location, user_description, user_followers_count, longitude, latitude, retweet_count, favorite_count) VALUES (%s, %s, %s, %s, %s, %s, %s, %s, %s, %s, %s, %s, %s)\".format(TABLE_NAME)\n",
    "            val = (id_str, created_at, text, polarity, subjectivity, user_created_at, user_location, \\\n",
    "                user_description, user_followers_count, longitude, latitude, retweet_count, favorite_count)\n",
    "            mycursor.execute(sql, val)\n",
    "            mydb.commit()\n",
    "            mycursor.close()\n",
    "    \n",
    "    \n",
    "    def on_error(self, status_code):\n",
    "        '''\n",
    "        Since Twitter API has rate limits, stop srcraping data as it exceed to the thresold.\n",
    "        '''\n",
    "        if status_code == 420:\n",
    "            # return False to disconnect the stream\n",
    "            return False"
   ]
  },
  {
   "cell_type": "code",
   "execution_count": 11,
   "metadata": {},
   "outputs": [],
   "source": [
    "def clean_tweet(self, tweet): \n",
    "    ''' \n",
    "    Use sumple regex statemnents to clean tweet text by removing links and special characters\n",
    "    '''\n",
    "    return ' '.join(re.sub(\"(@[A-Za-z0-9]+)|([^0-9A-Za-z \\t]) \\\n",
    "                                |(\\w+:\\/\\/\\S+)\", \" \", tweet).split()) \n",
    "def deEmojify(text):\n",
    "    '''\n",
    "    Strip all non-ASCII characters to remove emoji characters\n",
    "    '''\n",
    "    if text:\n",
    "        return text.encode('ascii', 'ignore').decode('ascii')\n",
    "    else:\n",
    "        return None"
   ]
  },
  {
   "cell_type": "code",
   "execution_count": 12,
   "metadata": {},
   "outputs": [],
   "source": [
    "try:\n",
    "    mydb = mysql.connector.connect(\n",
    "        host=\"localhost\",\n",
    "        user=\"root\",\n",
    "        passwd=\"password\",\n",
    "        database=\"TwitterDB\",\n",
    "        charset=\"utf8\",\n",
    "    )\n",
    "except:\n",
    "    db1 = mysql.connector.connect(host=\"localhost\", user=\"root\", passwd=\"password\")\n",
    "    cursor = db1.cursor()\n",
    "    sql = \"CREATE DATABASE TwitterDB\"\n",
    "    cursor.execute(sql)\n",
    "    mydb = mysql.connector.connect(\n",
    "        host=\"localhost\",\n",
    "        user=\"root\",\n",
    "        passwd=\"password\",\n",
    "        database=\"TwitterDB\",\n",
    "        charset=\"utf8\",\n",
    "    )"
   ]
  },
  {
   "cell_type": "code",
   "execution_count": 14,
   "metadata": {},
   "outputs": [],
   "source": [
    "TRACK_WORDS = [\"Facebook\"]\n",
    "TABLE_NAME = \"Facebook\"\n",
    "TABLE_ATTRIBUTES = \"id_str VARCHAR(255), created_at DATETIME, text VARCHAR(255), \\\n",
    "            polarity INT, subjectivity INT, user_created_at VARCHAR(255), user_location VARCHAR(255), \\\n",
    "            user_description VARCHAR(255), user_followers_count INT, longitude DOUBLE, latitude DOUBLE, \\\n",
    "            retweet_count INT, favorite_count INT\""
   ]
  },
  {
   "cell_type": "code",
   "execution_count": 15,
   "metadata": {},
   "outputs": [],
   "source": [
    "if mydb.is_connected():\n",
    "    mycursor = mydb.cursor()\n",
    "    mycursor.execute(\n",
    "        \"\"\"\n",
    "        SELECT COUNT(*)\n",
    "        FROM information_schema.tables\n",
    "        WHERE table_name = '{0}'\n",
    "        \"\"\".format(\n",
    "            TABLE_NAME\n",
    "        )\n",
    "    )\n",
    "    if mycursor.fetchone()[0] != 1:\n",
    "        mycursor.execute(\"CREATE TABLE {} ({})\".format(TABLE_NAME, TABLE_ATTRIBUTES))\n",
    "        mydb.commit()\n",
    "    mycursor.close()"
   ]
  },
  {
   "cell_type": "code",
   "execution_count": 20,
   "metadata": {},
   "outputs": [],
   "source": [
    "from keys import (\n",
    "    twitter_consumer_key,\n",
    "    twitter_consumer_secret,\n",
    "    twitter_access_token,\n",
    "    twitter_access_token_secret,\n",
    ")\n",
    "\n",
    "auth = tweepy.OAuthHandler(twitter_consumer_key, twitter_consumer_secret)\n",
    "auth.set_access_token(twitter_access_token, twitter_access_token_secret)\n",
    "api = tweepy.API(auth, wait_on_rate_limit=True)"
   ]
  },
  {
   "cell_type": "code",
   "execution_count": 40,
   "metadata": {
    "tags": []
   },
   "outputs": [
    {
     "output_type": "stream",
     "name": "stdout",
     "text": "RT @javeed_bablu: Emergency Blood requirement*\n*AKINADA, 8/08/2020*\nPatient name : H. Chandrasekhar\nAge:- 28years\nNeed : *\"A'' positive pla…\nLong: None, Lati: None\nRT @imanmohsinxx: I cannot stress enough how important medical insurance is!!!! Please get one if you don’t have it yet. Speaking from expe…\nLong: None, Lati: None\n@nuyune Haah high fever tu. It's dengue season.\nLong: None, Lati: None\nThe health authorities reported 367 cases since the beginning of this year. Among them, 350 recovered.https://t.co/Nb2GcGemBH\nLong: None, Lati: None\nI woke up the fucking dglue bglh is fude or nun is\nLong: None, Lati: None\nRT @CorrientesGob: Official report on the situation of Dengue and Coronavirus in the province. https://t.co/Wy8Ehtwgz3\nLong: None, Lati: None\nRT @ Lesinfirmieres1: Sophie, # nurse in #Mamoudzou: \"a few months ago we spoke of heat and humidity as a retarder or bar…\nLong: None, Lati: None\n"
    },
    {
     "output_type": "error",
     "ename": "KeyboardInterrupt",
     "evalue": "",
     "traceback": [
      "\u001b[1;31m---------------------------------------------------------------------------\u001b[0m",
      "\u001b[1;31mKeyboardInterrupt\u001b[0m                         Traceback (most recent call last)",
      "\u001b[1;32m<ipython-input-40-f7fedfeebed3>\u001b[0m in \u001b[0;36m<module>\u001b[1;34m\u001b[0m\n\u001b[0;32m      1\u001b[0m \u001b[0mmyStreamListener\u001b[0m \u001b[1;33m=\u001b[0m \u001b[0mMyStreamListener\u001b[0m\u001b[1;33m(\u001b[0m\u001b[1;33m)\u001b[0m\u001b[1;33m\u001b[0m\u001b[0m\n\u001b[0;32m      2\u001b[0m \u001b[0mmyStream\u001b[0m \u001b[1;33m=\u001b[0m \u001b[0mtweepy\u001b[0m\u001b[1;33m.\u001b[0m\u001b[0mStream\u001b[0m\u001b[1;33m(\u001b[0m\u001b[0mauth\u001b[0m \u001b[1;33m=\u001b[0m \u001b[0mapi\u001b[0m\u001b[1;33m.\u001b[0m\u001b[0mauth\u001b[0m\u001b[1;33m,\u001b[0m \u001b[0mlistener\u001b[0m \u001b[1;33m=\u001b[0m \u001b[0mmyStreamListener\u001b[0m\u001b[1;33m)\u001b[0m\u001b[1;33m\u001b[0m\u001b[0m\n\u001b[1;32m----> 3\u001b[1;33m \u001b[0mmyStream\u001b[0m\u001b[1;33m.\u001b[0m\u001b[0mfilter\u001b[0m\u001b[1;33m(\u001b[0m\u001b[0mtrack\u001b[0m \u001b[1;33m=\u001b[0m \u001b[1;33m[\u001b[0m\u001b[1;34m\"dengue\"\u001b[0m\u001b[1;33m]\u001b[0m\u001b[1;33m)\u001b[0m\u001b[1;33m\u001b[0m\u001b[0m\n\u001b[0m\u001b[0;32m      4\u001b[0m \u001b[1;31m# Close the MySQL connection as it finished\u001b[0m\u001b[1;33m\u001b[0m\u001b[1;33m\u001b[0m\u001b[0m\n\u001b[0;32m      5\u001b[0m \u001b[1;31m# However, this won't be reached as the stream listener won't stop automatically\u001b[0m\u001b[1;33m\u001b[0m\u001b[1;33m\u001b[0m\u001b[0m\n",
      "\u001b[1;32m~\\Anaconda3\\lib\\site-packages\\tweepy\\streaming.py\u001b[0m in \u001b[0;36mfilter\u001b[1;34m(self, follow, track, is_async, locations, stall_warnings, languages, encoding, filter_level)\u001b[0m\n\u001b[0;32m    451\u001b[0m             \u001b[0mself\u001b[0m\u001b[1;33m.\u001b[0m\u001b[0mbody\u001b[0m\u001b[1;33m[\u001b[0m\u001b[1;34m'filter_level'\u001b[0m\u001b[1;33m]\u001b[0m \u001b[1;33m=\u001b[0m \u001b[0mfilter_level\u001b[0m\u001b[1;33m.\u001b[0m\u001b[0mencode\u001b[0m\u001b[1;33m(\u001b[0m\u001b[0mencoding\u001b[0m\u001b[1;33m)\u001b[0m\u001b[1;33m\u001b[0m\u001b[0m\n\u001b[0;32m    452\u001b[0m         \u001b[0mself\u001b[0m\u001b[1;33m.\u001b[0m\u001b[0msession\u001b[0m\u001b[1;33m.\u001b[0m\u001b[0mparams\u001b[0m \u001b[1;33m=\u001b[0m \u001b[1;33m{\u001b[0m\u001b[1;34m'delimited'\u001b[0m\u001b[1;33m:\u001b[0m \u001b[1;34m'length'\u001b[0m\u001b[1;33m}\u001b[0m\u001b[1;33m\u001b[0m\u001b[0m\n\u001b[1;32m--> 453\u001b[1;33m         \u001b[0mself\u001b[0m\u001b[1;33m.\u001b[0m\u001b[0m_start\u001b[0m\u001b[1;33m(\u001b[0m\u001b[0mis_async\u001b[0m\u001b[1;33m)\u001b[0m\u001b[1;33m\u001b[0m\u001b[0m\n\u001b[0m\u001b[0;32m    454\u001b[0m \u001b[1;33m\u001b[0m\u001b[0m\n\u001b[0;32m    455\u001b[0m     def sitestream(self, follow, stall_warnings=False,\n",
      "\u001b[1;32m~\\Anaconda3\\lib\\site-packages\\tweepy\\streaming.py\u001b[0m in \u001b[0;36m_start\u001b[1;34m(self, is_async)\u001b[0m\n\u001b[0;32m    366\u001b[0m             \u001b[0mself\u001b[0m\u001b[1;33m.\u001b[0m\u001b[0m_thread\u001b[0m\u001b[1;33m.\u001b[0m\u001b[0mstart\u001b[0m\u001b[1;33m(\u001b[0m\u001b[1;33m)\u001b[0m\u001b[1;33m\u001b[0m\u001b[0m\n\u001b[0;32m    367\u001b[0m         \u001b[1;32melse\u001b[0m\u001b[1;33m:\u001b[0m\u001b[1;33m\u001b[0m\u001b[0m\n\u001b[1;32m--> 368\u001b[1;33m             \u001b[0mself\u001b[0m\u001b[1;33m.\u001b[0m\u001b[0m_run\u001b[0m\u001b[1;33m(\u001b[0m\u001b[1;33m)\u001b[0m\u001b[1;33m\u001b[0m\u001b[0m\n\u001b[0m\u001b[0;32m    369\u001b[0m \u001b[1;33m\u001b[0m\u001b[0m\n\u001b[0;32m    370\u001b[0m     \u001b[1;32mdef\u001b[0m \u001b[0mon_closed\u001b[0m\u001b[1;33m(\u001b[0m\u001b[0mself\u001b[0m\u001b[1;33m,\u001b[0m \u001b[0mresp\u001b[0m\u001b[1;33m)\u001b[0m\u001b[1;33m:\u001b[0m\u001b[1;33m\u001b[0m\u001b[0m\n",
      "\u001b[1;32m~\\Anaconda3\\lib\\site-packages\\tweepy\\streaming.py\u001b[0m in \u001b[0;36m_run\u001b[1;34m(self)\u001b[0m\n\u001b[0;32m    267\u001b[0m                     \u001b[0mself\u001b[0m\u001b[1;33m.\u001b[0m\u001b[0msnooze_time\u001b[0m \u001b[1;33m=\u001b[0m \u001b[0mself\u001b[0m\u001b[1;33m.\u001b[0m\u001b[0msnooze_time_step\u001b[0m\u001b[1;33m\u001b[0m\u001b[0m\n\u001b[0;32m    268\u001b[0m                     \u001b[0mself\u001b[0m\u001b[1;33m.\u001b[0m\u001b[0mlistener\u001b[0m\u001b[1;33m.\u001b[0m\u001b[0mon_connect\u001b[0m\u001b[1;33m(\u001b[0m\u001b[1;33m)\u001b[0m\u001b[1;33m\u001b[0m\u001b[0m\n\u001b[1;32m--> 269\u001b[1;33m                     \u001b[0mself\u001b[0m\u001b[1;33m.\u001b[0m\u001b[0m_read_loop\u001b[0m\u001b[1;33m(\u001b[0m\u001b[0mresp\u001b[0m\u001b[1;33m)\u001b[0m\u001b[1;33m\u001b[0m\u001b[0m\n\u001b[0m\u001b[0;32m    270\u001b[0m             \u001b[1;32mexcept\u001b[0m \u001b[1;33m(\u001b[0m\u001b[0mTimeout\u001b[0m\u001b[1;33m,\u001b[0m \u001b[0mssl\u001b[0m\u001b[1;33m.\u001b[0m\u001b[0mSSLError\u001b[0m\u001b[1;33m)\u001b[0m \u001b[1;32mas\u001b[0m \u001b[0mexc\u001b[0m\u001b[1;33m:\u001b[0m\u001b[1;33m\u001b[0m\u001b[0m\n\u001b[0;32m    271\u001b[0m                 \u001b[1;31m# This is still necessary, as a SSLError can actually be\u001b[0m\u001b[1;33m\u001b[0m\u001b[1;33m\u001b[0m\u001b[0m\n",
      "\u001b[1;32m~\\Anaconda3\\lib\\site-packages\\tweepy\\streaming.py\u001b[0m in \u001b[0;36m_read_loop\u001b[1;34m(self, resp)\u001b[0m\n\u001b[0;32m    317\u001b[0m             \u001b[0mlength\u001b[0m \u001b[1;33m=\u001b[0m \u001b[1;36m0\u001b[0m\u001b[1;33m\u001b[0m\u001b[0m\n\u001b[0;32m    318\u001b[0m             \u001b[1;32mwhile\u001b[0m \u001b[1;32mnot\u001b[0m \u001b[0mresp\u001b[0m\u001b[1;33m.\u001b[0m\u001b[0mraw\u001b[0m\u001b[1;33m.\u001b[0m\u001b[0mclosed\u001b[0m\u001b[1;33m:\u001b[0m\u001b[1;33m\u001b[0m\u001b[0m\n\u001b[1;32m--> 319\u001b[1;33m                 \u001b[0mline\u001b[0m \u001b[1;33m=\u001b[0m \u001b[0mbuf\u001b[0m\u001b[1;33m.\u001b[0m\u001b[0mread_line\u001b[0m\u001b[1;33m(\u001b[0m\u001b[1;33m)\u001b[0m\u001b[1;33m\u001b[0m\u001b[0m\n\u001b[0m\u001b[0;32m    320\u001b[0m                 \u001b[0mstripped_line\u001b[0m \u001b[1;33m=\u001b[0m \u001b[0mline\u001b[0m\u001b[1;33m.\u001b[0m\u001b[0mstrip\u001b[0m\u001b[1;33m(\u001b[0m\u001b[1;33m)\u001b[0m \u001b[1;32mif\u001b[0m \u001b[0mline\u001b[0m \u001b[1;32melse\u001b[0m \u001b[0mline\u001b[0m \u001b[1;31m# line is sometimes None so we need to check here\u001b[0m\u001b[1;33m\u001b[0m\u001b[0m\n\u001b[0;32m    321\u001b[0m                 \u001b[1;32mif\u001b[0m \u001b[1;32mnot\u001b[0m \u001b[0mstripped_line\u001b[0m\u001b[1;33m:\u001b[0m\u001b[1;33m\u001b[0m\u001b[0m\n",
      "\u001b[1;32m~\\Anaconda3\\lib\\site-packages\\tweepy\\streaming.py\u001b[0m in \u001b[0;36mread_line\u001b[1;34m(self, sep)\u001b[0m\n\u001b[0;32m    179\u001b[0m             \u001b[1;32melse\u001b[0m\u001b[1;33m:\u001b[0m\u001b[1;33m\u001b[0m\u001b[0m\n\u001b[0;32m    180\u001b[0m                 \u001b[0mstart\u001b[0m \u001b[1;33m=\u001b[0m \u001b[0mlen\u001b[0m\u001b[1;33m(\u001b[0m\u001b[0mself\u001b[0m\u001b[1;33m.\u001b[0m\u001b[0m_buffer\u001b[0m\u001b[1;33m)\u001b[0m\u001b[1;33m\u001b[0m\u001b[0m\n\u001b[1;32m--> 181\u001b[1;33m             \u001b[0mself\u001b[0m\u001b[1;33m.\u001b[0m\u001b[0m_buffer\u001b[0m \u001b[1;33m+=\u001b[0m \u001b[0mself\u001b[0m\u001b[1;33m.\u001b[0m\u001b[0m_stream\u001b[0m\u001b[1;33m.\u001b[0m\u001b[0mread\u001b[0m\u001b[1;33m(\u001b[0m\u001b[0mself\u001b[0m\u001b[1;33m.\u001b[0m\u001b[0m_chunk_size\u001b[0m\u001b[1;33m)\u001b[0m\u001b[1;33m\u001b[0m\u001b[0m\n\u001b[0m\u001b[0;32m    182\u001b[0m         \u001b[1;32mreturn\u001b[0m \u001b[0msix\u001b[0m\u001b[1;33m.\u001b[0m\u001b[0mb\u001b[0m\u001b[1;33m(\u001b[0m\u001b[1;34m''\u001b[0m\u001b[1;33m)\u001b[0m\u001b[1;33m\u001b[0m\u001b[0m\n\u001b[0;32m    183\u001b[0m \u001b[1;33m\u001b[0m\u001b[0m\n",
      "\u001b[1;32m~\\Anaconda3\\lib\\site-packages\\urllib3\\response.py\u001b[0m in \u001b[0;36mread\u001b[1;34m(self, amt, decode_content, cache_content)\u001b[0m\n\u001b[0;32m    382\u001b[0m             \u001b[1;32melse\u001b[0m\u001b[1;33m:\u001b[0m\u001b[1;33m\u001b[0m\u001b[0m\n\u001b[0;32m    383\u001b[0m                 \u001b[0mcache_content\u001b[0m \u001b[1;33m=\u001b[0m \u001b[1;32mFalse\u001b[0m\u001b[1;33m\u001b[0m\u001b[0m\n\u001b[1;32m--> 384\u001b[1;33m                 \u001b[0mdata\u001b[0m \u001b[1;33m=\u001b[0m \u001b[0mself\u001b[0m\u001b[1;33m.\u001b[0m\u001b[0m_fp\u001b[0m\u001b[1;33m.\u001b[0m\u001b[0mread\u001b[0m\u001b[1;33m(\u001b[0m\u001b[0mamt\u001b[0m\u001b[1;33m)\u001b[0m\u001b[1;33m\u001b[0m\u001b[0m\n\u001b[0m\u001b[0;32m    385\u001b[0m                 \u001b[1;32mif\u001b[0m \u001b[0mamt\u001b[0m \u001b[1;33m!=\u001b[0m \u001b[1;36m0\u001b[0m \u001b[1;32mand\u001b[0m \u001b[1;32mnot\u001b[0m \u001b[0mdata\u001b[0m\u001b[1;33m:\u001b[0m  \u001b[1;31m# Platform-specific: Buggy versions of Python.\u001b[0m\u001b[1;33m\u001b[0m\u001b[0m\n\u001b[0;32m    386\u001b[0m                     \u001b[1;31m# Close the connection when no data is returned\u001b[0m\u001b[1;33m\u001b[0m\u001b[1;33m\u001b[0m\u001b[0m\n",
      "\u001b[1;32m~\\Anaconda3\\lib\\http\\client.py\u001b[0m in \u001b[0;36mread\u001b[1;34m(self, amt)\u001b[0m\n\u001b[0;32m    447\u001b[0m             \u001b[1;31m# Amount is given, implement using readinto\u001b[0m\u001b[1;33m\u001b[0m\u001b[1;33m\u001b[0m\u001b[0m\n\u001b[0;32m    448\u001b[0m             \u001b[0mb\u001b[0m \u001b[1;33m=\u001b[0m \u001b[0mbytearray\u001b[0m\u001b[1;33m(\u001b[0m\u001b[0mamt\u001b[0m\u001b[1;33m)\u001b[0m\u001b[1;33m\u001b[0m\u001b[0m\n\u001b[1;32m--> 449\u001b[1;33m             \u001b[0mn\u001b[0m \u001b[1;33m=\u001b[0m \u001b[0mself\u001b[0m\u001b[1;33m.\u001b[0m\u001b[0mreadinto\u001b[0m\u001b[1;33m(\u001b[0m\u001b[0mb\u001b[0m\u001b[1;33m)\u001b[0m\u001b[1;33m\u001b[0m\u001b[0m\n\u001b[0m\u001b[0;32m    450\u001b[0m             \u001b[1;32mreturn\u001b[0m \u001b[0mmemoryview\u001b[0m\u001b[1;33m(\u001b[0m\u001b[0mb\u001b[0m\u001b[1;33m)\u001b[0m\u001b[1;33m[\u001b[0m\u001b[1;33m:\u001b[0m\u001b[0mn\u001b[0m\u001b[1;33m]\u001b[0m\u001b[1;33m.\u001b[0m\u001b[0mtobytes\u001b[0m\u001b[1;33m(\u001b[0m\u001b[1;33m)\u001b[0m\u001b[1;33m\u001b[0m\u001b[0m\n\u001b[0;32m    451\u001b[0m         \u001b[1;32melse\u001b[0m\u001b[1;33m:\u001b[0m\u001b[1;33m\u001b[0m\u001b[0m\n",
      "\u001b[1;32m~\\Anaconda3\\lib\\http\\client.py\u001b[0m in \u001b[0;36mreadinto\u001b[1;34m(self, b)\u001b[0m\n\u001b[0;32m    481\u001b[0m \u001b[1;33m\u001b[0m\u001b[0m\n\u001b[0;32m    482\u001b[0m         \u001b[1;32mif\u001b[0m \u001b[0mself\u001b[0m\u001b[1;33m.\u001b[0m\u001b[0mchunked\u001b[0m\u001b[1;33m:\u001b[0m\u001b[1;33m\u001b[0m\u001b[0m\n\u001b[1;32m--> 483\u001b[1;33m             \u001b[1;32mreturn\u001b[0m \u001b[0mself\u001b[0m\u001b[1;33m.\u001b[0m\u001b[0m_readinto_chunked\u001b[0m\u001b[1;33m(\u001b[0m\u001b[0mb\u001b[0m\u001b[1;33m)\u001b[0m\u001b[1;33m\u001b[0m\u001b[0m\n\u001b[0m\u001b[0;32m    484\u001b[0m \u001b[1;33m\u001b[0m\u001b[0m\n\u001b[0;32m    485\u001b[0m         \u001b[1;32mif\u001b[0m \u001b[0mself\u001b[0m\u001b[1;33m.\u001b[0m\u001b[0mlength\u001b[0m \u001b[1;32mis\u001b[0m \u001b[1;32mnot\u001b[0m \u001b[1;32mNone\u001b[0m\u001b[1;33m:\u001b[0m\u001b[1;33m\u001b[0m\u001b[0m\n",
      "\u001b[1;32m~\\Anaconda3\\lib\\http\\client.py\u001b[0m in \u001b[0;36m_readinto_chunked\u001b[1;34m(self, b)\u001b[0m\n\u001b[0;32m    576\u001b[0m         \u001b[1;32mtry\u001b[0m\u001b[1;33m:\u001b[0m\u001b[1;33m\u001b[0m\u001b[0m\n\u001b[0;32m    577\u001b[0m             \u001b[1;32mwhile\u001b[0m \u001b[1;32mTrue\u001b[0m\u001b[1;33m:\u001b[0m\u001b[1;33m\u001b[0m\u001b[0m\n\u001b[1;32m--> 578\u001b[1;33m                 \u001b[0mchunk_left\u001b[0m \u001b[1;33m=\u001b[0m \u001b[0mself\u001b[0m\u001b[1;33m.\u001b[0m\u001b[0m_get_chunk_left\u001b[0m\u001b[1;33m(\u001b[0m\u001b[1;33m)\u001b[0m\u001b[1;33m\u001b[0m\u001b[0m\n\u001b[0m\u001b[0;32m    579\u001b[0m                 \u001b[1;32mif\u001b[0m \u001b[0mchunk_left\u001b[0m \u001b[1;32mis\u001b[0m \u001b[1;32mNone\u001b[0m\u001b[1;33m:\u001b[0m\u001b[1;33m\u001b[0m\u001b[0m\n\u001b[0;32m    580\u001b[0m                     \u001b[1;32mreturn\u001b[0m \u001b[0mtotal_bytes\u001b[0m\u001b[1;33m\u001b[0m\u001b[0m\n",
      "\u001b[1;32m~\\Anaconda3\\lib\\http\\client.py\u001b[0m in \u001b[0;36m_get_chunk_left\u001b[1;34m(self)\u001b[0m\n\u001b[0;32m    544\u001b[0m                 \u001b[0mself\u001b[0m\u001b[1;33m.\u001b[0m\u001b[0m_safe_read\u001b[0m\u001b[1;33m(\u001b[0m\u001b[1;36m2\u001b[0m\u001b[1;33m)\u001b[0m  \u001b[1;31m# toss the CRLF at the end of the chunk\u001b[0m\u001b[1;33m\u001b[0m\u001b[0m\n\u001b[0;32m    545\u001b[0m             \u001b[1;32mtry\u001b[0m\u001b[1;33m:\u001b[0m\u001b[1;33m\u001b[0m\u001b[0m\n\u001b[1;32m--> 546\u001b[1;33m                 \u001b[0mchunk_left\u001b[0m \u001b[1;33m=\u001b[0m \u001b[0mself\u001b[0m\u001b[1;33m.\u001b[0m\u001b[0m_read_next_chunk_size\u001b[0m\u001b[1;33m(\u001b[0m\u001b[1;33m)\u001b[0m\u001b[1;33m\u001b[0m\u001b[0m\n\u001b[0m\u001b[0;32m    547\u001b[0m             \u001b[1;32mexcept\u001b[0m \u001b[0mValueError\u001b[0m\u001b[1;33m:\u001b[0m\u001b[1;33m\u001b[0m\u001b[0m\n\u001b[0;32m    548\u001b[0m                 \u001b[1;32mraise\u001b[0m \u001b[0mIncompleteRead\u001b[0m\u001b[1;33m(\u001b[0m\u001b[1;34mb''\u001b[0m\u001b[1;33m)\u001b[0m\u001b[1;33m\u001b[0m\u001b[0m\n",
      "\u001b[1;32m~\\Anaconda3\\lib\\http\\client.py\u001b[0m in \u001b[0;36m_read_next_chunk_size\u001b[1;34m(self)\u001b[0m\n\u001b[0;32m    504\u001b[0m     \u001b[1;32mdef\u001b[0m \u001b[0m_read_next_chunk_size\u001b[0m\u001b[1;33m(\u001b[0m\u001b[0mself\u001b[0m\u001b[1;33m)\u001b[0m\u001b[1;33m:\u001b[0m\u001b[1;33m\u001b[0m\u001b[0m\n\u001b[0;32m    505\u001b[0m         \u001b[1;31m# Read the next chunk size from the file\u001b[0m\u001b[1;33m\u001b[0m\u001b[1;33m\u001b[0m\u001b[0m\n\u001b[1;32m--> 506\u001b[1;33m         \u001b[0mline\u001b[0m \u001b[1;33m=\u001b[0m \u001b[0mself\u001b[0m\u001b[1;33m.\u001b[0m\u001b[0mfp\u001b[0m\u001b[1;33m.\u001b[0m\u001b[0mreadline\u001b[0m\u001b[1;33m(\u001b[0m\u001b[0m_MAXLINE\u001b[0m \u001b[1;33m+\u001b[0m \u001b[1;36m1\u001b[0m\u001b[1;33m)\u001b[0m\u001b[1;33m\u001b[0m\u001b[0m\n\u001b[0m\u001b[0;32m    507\u001b[0m         \u001b[1;32mif\u001b[0m \u001b[0mlen\u001b[0m\u001b[1;33m(\u001b[0m\u001b[0mline\u001b[0m\u001b[1;33m)\u001b[0m \u001b[1;33m>\u001b[0m \u001b[0m_MAXLINE\u001b[0m\u001b[1;33m:\u001b[0m\u001b[1;33m\u001b[0m\u001b[0m\n\u001b[0;32m    508\u001b[0m             \u001b[1;32mraise\u001b[0m \u001b[0mLineTooLong\u001b[0m\u001b[1;33m(\u001b[0m\u001b[1;34m\"chunk size\"\u001b[0m\u001b[1;33m)\u001b[0m\u001b[1;33m\u001b[0m\u001b[0m\n",
      "\u001b[1;32m~\\Anaconda3\\lib\\socket.py\u001b[0m in \u001b[0;36mreadinto\u001b[1;34m(self, b)\u001b[0m\n\u001b[0;32m    584\u001b[0m         \u001b[1;32mwhile\u001b[0m \u001b[1;32mTrue\u001b[0m\u001b[1;33m:\u001b[0m\u001b[1;33m\u001b[0m\u001b[0m\n\u001b[0;32m    585\u001b[0m             \u001b[1;32mtry\u001b[0m\u001b[1;33m:\u001b[0m\u001b[1;33m\u001b[0m\u001b[0m\n\u001b[1;32m--> 586\u001b[1;33m                 \u001b[1;32mreturn\u001b[0m \u001b[0mself\u001b[0m\u001b[1;33m.\u001b[0m\u001b[0m_sock\u001b[0m\u001b[1;33m.\u001b[0m\u001b[0mrecv_into\u001b[0m\u001b[1;33m(\u001b[0m\u001b[0mb\u001b[0m\u001b[1;33m)\u001b[0m\u001b[1;33m\u001b[0m\u001b[0m\n\u001b[0m\u001b[0;32m    587\u001b[0m             \u001b[1;32mexcept\u001b[0m \u001b[0mtimeout\u001b[0m\u001b[1;33m:\u001b[0m\u001b[1;33m\u001b[0m\u001b[0m\n\u001b[0;32m    588\u001b[0m                 \u001b[0mself\u001b[0m\u001b[1;33m.\u001b[0m\u001b[0m_timeout_occurred\u001b[0m \u001b[1;33m=\u001b[0m \u001b[1;32mTrue\u001b[0m\u001b[1;33m\u001b[0m\u001b[0m\n",
      "\u001b[1;32m~\\Anaconda3\\lib\\ssl.py\u001b[0m in \u001b[0;36mrecv_into\u001b[1;34m(self, buffer, nbytes, flags)\u001b[0m\n\u001b[0;32m   1007\u001b[0m                   \u001b[1;34m\"non-zero flags not allowed in calls to recv_into() on %s\"\u001b[0m \u001b[1;33m%\u001b[0m\u001b[1;33m\u001b[0m\u001b[0m\n\u001b[0;32m   1008\u001b[0m                   self.__class__)\n\u001b[1;32m-> 1009\u001b[1;33m             \u001b[1;32mreturn\u001b[0m \u001b[0mself\u001b[0m\u001b[1;33m.\u001b[0m\u001b[0mread\u001b[0m\u001b[1;33m(\u001b[0m\u001b[0mnbytes\u001b[0m\u001b[1;33m,\u001b[0m \u001b[0mbuffer\u001b[0m\u001b[1;33m)\u001b[0m\u001b[1;33m\u001b[0m\u001b[0m\n\u001b[0m\u001b[0;32m   1010\u001b[0m         \u001b[1;32melse\u001b[0m\u001b[1;33m:\u001b[0m\u001b[1;33m\u001b[0m\u001b[0m\n\u001b[0;32m   1011\u001b[0m             \u001b[1;32mreturn\u001b[0m \u001b[0msocket\u001b[0m\u001b[1;33m.\u001b[0m\u001b[0mrecv_into\u001b[0m\u001b[1;33m(\u001b[0m\u001b[0mself\u001b[0m\u001b[1;33m,\u001b[0m \u001b[0mbuffer\u001b[0m\u001b[1;33m,\u001b[0m \u001b[0mnbytes\u001b[0m\u001b[1;33m,\u001b[0m \u001b[0mflags\u001b[0m\u001b[1;33m)\u001b[0m\u001b[1;33m\u001b[0m\u001b[0m\n",
      "\u001b[1;32m~\\Anaconda3\\lib\\ssl.py\u001b[0m in \u001b[0;36mread\u001b[1;34m(self, len, buffer)\u001b[0m\n\u001b[0;32m    869\u001b[0m             \u001b[1;32mraise\u001b[0m \u001b[0mValueError\u001b[0m\u001b[1;33m(\u001b[0m\u001b[1;34m\"Read on closed or unwrapped SSL socket.\"\u001b[0m\u001b[1;33m)\u001b[0m\u001b[1;33m\u001b[0m\u001b[0m\n\u001b[0;32m    870\u001b[0m         \u001b[1;32mtry\u001b[0m\u001b[1;33m:\u001b[0m\u001b[1;33m\u001b[0m\u001b[0m\n\u001b[1;32m--> 871\u001b[1;33m             \u001b[1;32mreturn\u001b[0m \u001b[0mself\u001b[0m\u001b[1;33m.\u001b[0m\u001b[0m_sslobj\u001b[0m\u001b[1;33m.\u001b[0m\u001b[0mread\u001b[0m\u001b[1;33m(\u001b[0m\u001b[0mlen\u001b[0m\u001b[1;33m,\u001b[0m \u001b[0mbuffer\u001b[0m\u001b[1;33m)\u001b[0m\u001b[1;33m\u001b[0m\u001b[0m\n\u001b[0m\u001b[0;32m    872\u001b[0m         \u001b[1;32mexcept\u001b[0m \u001b[0mSSLError\u001b[0m \u001b[1;32mas\u001b[0m \u001b[0mx\u001b[0m\u001b[1;33m:\u001b[0m\u001b[1;33m\u001b[0m\u001b[0m\n\u001b[0;32m    873\u001b[0m             \u001b[1;32mif\u001b[0m \u001b[0mx\u001b[0m\u001b[1;33m.\u001b[0m\u001b[0margs\u001b[0m\u001b[1;33m[\u001b[0m\u001b[1;36m0\u001b[0m\u001b[1;33m]\u001b[0m \u001b[1;33m==\u001b[0m \u001b[0mSSL_ERROR_EOF\u001b[0m \u001b[1;32mand\u001b[0m \u001b[0mself\u001b[0m\u001b[1;33m.\u001b[0m\u001b[0msuppress_ragged_eofs\u001b[0m\u001b[1;33m:\u001b[0m\u001b[1;33m\u001b[0m\u001b[0m\n",
      "\u001b[1;32m~\\Anaconda3\\lib\\ssl.py\u001b[0m in \u001b[0;36mread\u001b[1;34m(self, len, buffer)\u001b[0m\n\u001b[0;32m    629\u001b[0m         \"\"\"\n\u001b[0;32m    630\u001b[0m         \u001b[1;32mif\u001b[0m \u001b[0mbuffer\u001b[0m \u001b[1;32mis\u001b[0m \u001b[1;32mnot\u001b[0m \u001b[1;32mNone\u001b[0m\u001b[1;33m:\u001b[0m\u001b[1;33m\u001b[0m\u001b[0m\n\u001b[1;32m--> 631\u001b[1;33m             \u001b[0mv\u001b[0m \u001b[1;33m=\u001b[0m \u001b[0mself\u001b[0m\u001b[1;33m.\u001b[0m\u001b[0m_sslobj\u001b[0m\u001b[1;33m.\u001b[0m\u001b[0mread\u001b[0m\u001b[1;33m(\u001b[0m\u001b[0mlen\u001b[0m\u001b[1;33m,\u001b[0m \u001b[0mbuffer\u001b[0m\u001b[1;33m)\u001b[0m\u001b[1;33m\u001b[0m\u001b[0m\n\u001b[0m\u001b[0;32m    632\u001b[0m         \u001b[1;32melse\u001b[0m\u001b[1;33m:\u001b[0m\u001b[1;33m\u001b[0m\u001b[0m\n\u001b[0;32m    633\u001b[0m             \u001b[0mv\u001b[0m \u001b[1;33m=\u001b[0m \u001b[0mself\u001b[0m\u001b[1;33m.\u001b[0m\u001b[0m_sslobj\u001b[0m\u001b[1;33m.\u001b[0m\u001b[0mread\u001b[0m\u001b[1;33m(\u001b[0m\u001b[0mlen\u001b[0m\u001b[1;33m)\u001b[0m\u001b[1;33m\u001b[0m\u001b[0m\n",
      "\u001b[1;31mKeyboardInterrupt\u001b[0m: "
     ]
    }
   ],
   "source": [
    "myStreamListener = MyStreamListener()\n",
    "myStream = tweepy.Stream(auth = api.auth, listener = myStreamListener)\n",
    "myStream.filter(track = [\"dengue\"])\n",
    "# Close the MySQL connection as it finished\n",
    "# However, this won't be reached as the stream listener won't stop automatically\n",
    "# Press STOP button to finish the process.\n",
    "# mydb.close()"
   ]
  },
  {
   "cell_type": "code",
   "execution_count": 4,
   "metadata": {},
   "outputs": [
    {
     "output_type": "execute_result",
     "data": {
      "text/plain": "'lalalal'"
     },
     "metadata": {},
     "execution_count": 4
    }
   ],
   "source": [
    "import re\n",
    "\n",
    "translated_emojiless_clean_text = \"\".join(\n",
    "re.sub(\n",
    "\"(@[A-Za-z0-9]+)|([^0-9A-Za-z \\t]) \\\n",
    "                    |(\\w+:\\/\\/\\S+)\",\n",
    "\" \",\n",
    "\"lalalal\",\n",
    "))\n",
    "\n",
    "translated_emojiless_clean_text"
   ]
  },
  {
   "cell_type": "code",
   "execution_count": 3,
   "metadata": {
    "tags": []
   },
   "outputs": [
    {
     "output_type": "stream",
     "name": "stdout",
     "text": "2020-08-09 11:45:26\n"
    }
   ],
   "source": [
    "import datetime\n",
    "timenow = (\n",
    "    datetime.datetime.now()\n",
    "    - datetime.timedelta(hours=0, minutes=60)\n",
    ").strftime(\"%Y-%m-%d %H:%M:%S\")\n",
    "print(timenow)"
   ]
  },
  {
   "cell_type": "code",
   "execution_count": 4,
   "metadata": {},
   "outputs": [],
   "source": [
    "import mysql.connector\n",
    "db_connection = mysql.connector.connect(\n",
    "    host=\"localhost\",\n",
    "    user=\"root\",\n",
    "    passwd=\"password\",\n",
    "    database=\"TwitterDB\",\n",
    "    charset=\"utf8\",\n",
    ")"
   ]
  },
  {
   "cell_type": "code",
   "execution_count": 6,
   "metadata": {},
   "outputs": [],
   "source": [
    "import pandas as pd\n",
    "# Load data from MySQL\n",
    "timenow = (\n",
    "    datetime.datetime.now()\n",
    "    - datetime.timedelta(hours=0, minutes=60)\n",
    ").strftime(\"%Y-%m-%d %H:%M:%S\")\n",
    "\n",
    "query = \"SELECT id_str, text, created_at, polarity FROM {} WHERE created_at <= '{}' \".format(\n",
    "    \"dengue\", timenow\n",
    ")\n",
    "\n",
    "df = pd.read_sql(query, con=db_connection)"
   ]
  },
  {
   "cell_type": "code",
   "execution_count": 7,
   "metadata": {},
   "outputs": [
    {
     "output_type": "execute_result",
     "data": {
      "text/plain": "                 id_str                                               text  \\\n0   1292108136745058306  Government of the Punjab, School Education Dep...   \n1   1292108819699384321  RT : Our alumni, Siddarameshs son (Suharsh) is...   \n2   1292109401176723457  RT : Dengue &amp; viral fever has become an ep...   \n3   1292109540473757696  RT : 31 Dengue Cases In Delhi Till August 1; F...   \n4   1292110250489737217  RT : #Kakinada Need #Blood Type : A-positive A...   \n5   1292110343586451456  In Dengue fever, Normally critical phases occu...   \n6   1292110920894672897  RT : Our alumni, Siddarameshs son (Suharsh) is...   \n7   1292111174180380673  RT : Dengue &amp; viral fever has become an ep...   \n8   1292113907427889152  RT : Our alumni, Siddarameshs son (Suharsh) is...   \n9   1292114324882767872  How to prevent and control the spread of dengu...   \n10  1292114427056193538  RT : Covid-dengue co-infections are Bengals ne...   \n11  1292114772410990593                                         RT : This.   \n12  1292115256764817409  RT : Overflowing drains and sewage water can l...   \n13  1292116404381061124  RT : there is some scam going on across the co...   \n14  1292116582173474821  It turns out that there's recorded cases of co...   \n15  1292302499026788352  #ProtectYourChild Health This #Monsoon. Make Y...   \n16  1292304304754360320  Water sewage situation in Vasna Bhayli (behind...   \n17  1292304547164164096  _click Water sewage situation in Vasna Bhayli ...   \n18  1292305398771470336  Water sewage situation in Vasna Bhayli (behind...   \n\n            created_at  polarity  \n0  2020-08-08 14:39:20         0  \n1  2020-08-08 14:42:03         0  \n2  2020-08-08 14:44:22         0  \n3  2020-08-08 14:44:55         0  \n4  2020-08-08 14:47:44         0  \n5  2020-08-08 14:48:06         0  \n6  2020-08-08 14:50:24         0  \n7  2020-08-08 14:51:24         0  \n8  2020-08-08 15:02:16         0  \n9  2020-08-08 15:03:56         1  \n10 2020-08-08 15:04:20         0  \n11 2020-08-08 15:05:42         0  \n12 2020-08-08 15:07:38         0  \n13 2020-08-08 15:12:11         0  \n14 2020-08-08 15:12:54         0  \n15 2020-08-09 03:31:40         0  \n16 2020-08-09 03:38:50         0  \n17 2020-08-09 03:39:48         0  \n18 2020-08-09 03:43:11         0  ",
      "text/html": "<div>\n<style scoped>\n    .dataframe tbody tr th:only-of-type {\n        vertical-align: middle;\n    }\n\n    .dataframe tbody tr th {\n        vertical-align: top;\n    }\n\n    .dataframe thead th {\n        text-align: right;\n    }\n</style>\n<table border=\"1\" class=\"dataframe\">\n  <thead>\n    <tr style=\"text-align: right;\">\n      <th></th>\n      <th>id_str</th>\n      <th>text</th>\n      <th>created_at</th>\n      <th>polarity</th>\n    </tr>\n  </thead>\n  <tbody>\n    <tr>\n      <td>0</td>\n      <td>1292108136745058306</td>\n      <td>Government of the Punjab, School Education Dep...</td>\n      <td>2020-08-08 14:39:20</td>\n      <td>0</td>\n    </tr>\n    <tr>\n      <td>1</td>\n      <td>1292108819699384321</td>\n      <td>RT : Our alumni, Siddarameshs son (Suharsh) is...</td>\n      <td>2020-08-08 14:42:03</td>\n      <td>0</td>\n    </tr>\n    <tr>\n      <td>2</td>\n      <td>1292109401176723457</td>\n      <td>RT : Dengue &amp;amp; viral fever has become an ep...</td>\n      <td>2020-08-08 14:44:22</td>\n      <td>0</td>\n    </tr>\n    <tr>\n      <td>3</td>\n      <td>1292109540473757696</td>\n      <td>RT : 31 Dengue Cases In Delhi Till August 1; F...</td>\n      <td>2020-08-08 14:44:55</td>\n      <td>0</td>\n    </tr>\n    <tr>\n      <td>4</td>\n      <td>1292110250489737217</td>\n      <td>RT : #Kakinada Need #Blood Type : A-positive A...</td>\n      <td>2020-08-08 14:47:44</td>\n      <td>0</td>\n    </tr>\n    <tr>\n      <td>5</td>\n      <td>1292110343586451456</td>\n      <td>In Dengue fever, Normally critical phases occu...</td>\n      <td>2020-08-08 14:48:06</td>\n      <td>0</td>\n    </tr>\n    <tr>\n      <td>6</td>\n      <td>1292110920894672897</td>\n      <td>RT : Our alumni, Siddarameshs son (Suharsh) is...</td>\n      <td>2020-08-08 14:50:24</td>\n      <td>0</td>\n    </tr>\n    <tr>\n      <td>7</td>\n      <td>1292111174180380673</td>\n      <td>RT : Dengue &amp;amp; viral fever has become an ep...</td>\n      <td>2020-08-08 14:51:24</td>\n      <td>0</td>\n    </tr>\n    <tr>\n      <td>8</td>\n      <td>1292113907427889152</td>\n      <td>RT : Our alumni, Siddarameshs son (Suharsh) is...</td>\n      <td>2020-08-08 15:02:16</td>\n      <td>0</td>\n    </tr>\n    <tr>\n      <td>9</td>\n      <td>1292114324882767872</td>\n      <td>How to prevent and control the spread of dengu...</td>\n      <td>2020-08-08 15:03:56</td>\n      <td>1</td>\n    </tr>\n    <tr>\n      <td>10</td>\n      <td>1292114427056193538</td>\n      <td>RT : Covid-dengue co-infections are Bengals ne...</td>\n      <td>2020-08-08 15:04:20</td>\n      <td>0</td>\n    </tr>\n    <tr>\n      <td>11</td>\n      <td>1292114772410990593</td>\n      <td>RT : This.</td>\n      <td>2020-08-08 15:05:42</td>\n      <td>0</td>\n    </tr>\n    <tr>\n      <td>12</td>\n      <td>1292115256764817409</td>\n      <td>RT : Overflowing drains and sewage water can l...</td>\n      <td>2020-08-08 15:07:38</td>\n      <td>0</td>\n    </tr>\n    <tr>\n      <td>13</td>\n      <td>1292116404381061124</td>\n      <td>RT : there is some scam going on across the co...</td>\n      <td>2020-08-08 15:12:11</td>\n      <td>0</td>\n    </tr>\n    <tr>\n      <td>14</td>\n      <td>1292116582173474821</td>\n      <td>It turns out that there's recorded cases of co...</td>\n      <td>2020-08-08 15:12:54</td>\n      <td>0</td>\n    </tr>\n    <tr>\n      <td>15</td>\n      <td>1292302499026788352</td>\n      <td>#ProtectYourChild Health This #Monsoon. Make Y...</td>\n      <td>2020-08-09 03:31:40</td>\n      <td>0</td>\n    </tr>\n    <tr>\n      <td>16</td>\n      <td>1292304304754360320</td>\n      <td>Water sewage situation in Vasna Bhayli (behind...</td>\n      <td>2020-08-09 03:38:50</td>\n      <td>0</td>\n    </tr>\n    <tr>\n      <td>17</td>\n      <td>1292304547164164096</td>\n      <td>_click Water sewage situation in Vasna Bhayli ...</td>\n      <td>2020-08-09 03:39:48</td>\n      <td>0</td>\n    </tr>\n    <tr>\n      <td>18</td>\n      <td>1292305398771470336</td>\n      <td>Water sewage situation in Vasna Bhayli (behind...</td>\n      <td>2020-08-09 03:43:11</td>\n      <td>0</td>\n    </tr>\n  </tbody>\n</table>\n</div>"
     },
     "metadata": {},
     "execution_count": 7
    }
   ],
   "source": [
    "df"
   ]
  },
  {
   "cell_type": "code",
   "execution_count": 8,
   "metadata": {},
   "outputs": [],
   "source": [
    "df[\"created_at\"] = pd.to_datetime(df[\"created_at\"]).apply(\n",
    "    lambda x: x + datetime.timedelta(hours=6)\n",
    ")"
   ]
  },
  {
   "cell_type": "code",
   "execution_count": 9,
   "metadata": {},
   "outputs": [
    {
     "output_type": "execute_result",
     "data": {
      "text/plain": "                 id_str                                               text  \\\n0   1292108136745058306  Government of the Punjab, School Education Dep...   \n1   1292108819699384321  RT : Our alumni, Siddarameshs son (Suharsh) is...   \n2   1292109401176723457  RT : Dengue &amp; viral fever has become an ep...   \n3   1292109540473757696  RT : 31 Dengue Cases In Delhi Till August 1; F...   \n4   1292110250489737217  RT : #Kakinada Need #Blood Type : A-positive A...   \n5   1292110343586451456  In Dengue fever, Normally critical phases occu...   \n6   1292110920894672897  RT : Our alumni, Siddarameshs son (Suharsh) is...   \n7   1292111174180380673  RT : Dengue &amp; viral fever has become an ep...   \n8   1292113907427889152  RT : Our alumni, Siddarameshs son (Suharsh) is...   \n9   1292114324882767872  How to prevent and control the spread of dengu...   \n10  1292114427056193538  RT : Covid-dengue co-infections are Bengals ne...   \n11  1292114772410990593                                         RT : This.   \n12  1292115256764817409  RT : Overflowing drains and sewage water can l...   \n13  1292116404381061124  RT : there is some scam going on across the co...   \n14  1292116582173474821  It turns out that there's recorded cases of co...   \n15  1292302499026788352  #ProtectYourChild Health This #Monsoon. Make Y...   \n16  1292304304754360320  Water sewage situation in Vasna Bhayli (behind...   \n17  1292304547164164096  _click Water sewage situation in Vasna Bhayli ...   \n18  1292305398771470336  Water sewage situation in Vasna Bhayli (behind...   \n\n            created_at  polarity  \n0  2020-08-08 20:39:20         0  \n1  2020-08-08 20:42:03         0  \n2  2020-08-08 20:44:22         0  \n3  2020-08-08 20:44:55         0  \n4  2020-08-08 20:47:44         0  \n5  2020-08-08 20:48:06         0  \n6  2020-08-08 20:50:24         0  \n7  2020-08-08 20:51:24         0  \n8  2020-08-08 21:02:16         0  \n9  2020-08-08 21:03:56         1  \n10 2020-08-08 21:04:20         0  \n11 2020-08-08 21:05:42         0  \n12 2020-08-08 21:07:38         0  \n13 2020-08-08 21:12:11         0  \n14 2020-08-08 21:12:54         0  \n15 2020-08-09 09:31:40         0  \n16 2020-08-09 09:38:50         0  \n17 2020-08-09 09:39:48         0  \n18 2020-08-09 09:43:11         0  ",
      "text/html": "<div>\n<style scoped>\n    .dataframe tbody tr th:only-of-type {\n        vertical-align: middle;\n    }\n\n    .dataframe tbody tr th {\n        vertical-align: top;\n    }\n\n    .dataframe thead th {\n        text-align: right;\n    }\n</style>\n<table border=\"1\" class=\"dataframe\">\n  <thead>\n    <tr style=\"text-align: right;\">\n      <th></th>\n      <th>id_str</th>\n      <th>text</th>\n      <th>created_at</th>\n      <th>polarity</th>\n    </tr>\n  </thead>\n  <tbody>\n    <tr>\n      <td>0</td>\n      <td>1292108136745058306</td>\n      <td>Government of the Punjab, School Education Dep...</td>\n      <td>2020-08-08 20:39:20</td>\n      <td>0</td>\n    </tr>\n    <tr>\n      <td>1</td>\n      <td>1292108819699384321</td>\n      <td>RT : Our alumni, Siddarameshs son (Suharsh) is...</td>\n      <td>2020-08-08 20:42:03</td>\n      <td>0</td>\n    </tr>\n    <tr>\n      <td>2</td>\n      <td>1292109401176723457</td>\n      <td>RT : Dengue &amp;amp; viral fever has become an ep...</td>\n      <td>2020-08-08 20:44:22</td>\n      <td>0</td>\n    </tr>\n    <tr>\n      <td>3</td>\n      <td>1292109540473757696</td>\n      <td>RT : 31 Dengue Cases In Delhi Till August 1; F...</td>\n      <td>2020-08-08 20:44:55</td>\n      <td>0</td>\n    </tr>\n    <tr>\n      <td>4</td>\n      <td>1292110250489737217</td>\n      <td>RT : #Kakinada Need #Blood Type : A-positive A...</td>\n      <td>2020-08-08 20:47:44</td>\n      <td>0</td>\n    </tr>\n    <tr>\n      <td>5</td>\n      <td>1292110343586451456</td>\n      <td>In Dengue fever, Normally critical phases occu...</td>\n      <td>2020-08-08 20:48:06</td>\n      <td>0</td>\n    </tr>\n    <tr>\n      <td>6</td>\n      <td>1292110920894672897</td>\n      <td>RT : Our alumni, Siddarameshs son (Suharsh) is...</td>\n      <td>2020-08-08 20:50:24</td>\n      <td>0</td>\n    </tr>\n    <tr>\n      <td>7</td>\n      <td>1292111174180380673</td>\n      <td>RT : Dengue &amp;amp; viral fever has become an ep...</td>\n      <td>2020-08-08 20:51:24</td>\n      <td>0</td>\n    </tr>\n    <tr>\n      <td>8</td>\n      <td>1292113907427889152</td>\n      <td>RT : Our alumni, Siddarameshs son (Suharsh) is...</td>\n      <td>2020-08-08 21:02:16</td>\n      <td>0</td>\n    </tr>\n    <tr>\n      <td>9</td>\n      <td>1292114324882767872</td>\n      <td>How to prevent and control the spread of dengu...</td>\n      <td>2020-08-08 21:03:56</td>\n      <td>1</td>\n    </tr>\n    <tr>\n      <td>10</td>\n      <td>1292114427056193538</td>\n      <td>RT : Covid-dengue co-infections are Bengals ne...</td>\n      <td>2020-08-08 21:04:20</td>\n      <td>0</td>\n    </tr>\n    <tr>\n      <td>11</td>\n      <td>1292114772410990593</td>\n      <td>RT : This.</td>\n      <td>2020-08-08 21:05:42</td>\n      <td>0</td>\n    </tr>\n    <tr>\n      <td>12</td>\n      <td>1292115256764817409</td>\n      <td>RT : Overflowing drains and sewage water can l...</td>\n      <td>2020-08-08 21:07:38</td>\n      <td>0</td>\n    </tr>\n    <tr>\n      <td>13</td>\n      <td>1292116404381061124</td>\n      <td>RT : there is some scam going on across the co...</td>\n      <td>2020-08-08 21:12:11</td>\n      <td>0</td>\n    </tr>\n    <tr>\n      <td>14</td>\n      <td>1292116582173474821</td>\n      <td>It turns out that there's recorded cases of co...</td>\n      <td>2020-08-08 21:12:54</td>\n      <td>0</td>\n    </tr>\n    <tr>\n      <td>15</td>\n      <td>1292302499026788352</td>\n      <td>#ProtectYourChild Health This #Monsoon. Make Y...</td>\n      <td>2020-08-09 09:31:40</td>\n      <td>0</td>\n    </tr>\n    <tr>\n      <td>16</td>\n      <td>1292304304754360320</td>\n      <td>Water sewage situation in Vasna Bhayli (behind...</td>\n      <td>2020-08-09 09:38:50</td>\n      <td>0</td>\n    </tr>\n    <tr>\n      <td>17</td>\n      <td>1292304547164164096</td>\n      <td>_click Water sewage situation in Vasna Bhayli ...</td>\n      <td>2020-08-09 09:39:48</td>\n      <td>0</td>\n    </tr>\n    <tr>\n      <td>18</td>\n      <td>1292305398771470336</td>\n      <td>Water sewage situation in Vasna Bhayli (behind...</td>\n      <td>2020-08-09 09:43:11</td>\n      <td>0</td>\n    </tr>\n  </tbody>\n</table>\n</div>"
     },
     "metadata": {},
     "execution_count": 9
    }
   ],
   "source": [
    "df"
   ]
  },
  {
   "cell_type": "code",
   "execution_count": 62,
   "metadata": {},
   "outputs": [],
   "source": [
    "# Clean and transform data to enable time series\n",
    "result = df.groupby([pd.Grouper(key='created_at', freq='5min'), 'polarity']).count().reset_index()\n",
    "result = result.rename(columns={\"id_str\": \"Num of '{}' mentions\".format(\"dengue\"), \"created_at\":\"Time\"})  \n",
    "time_series = result[\"Time\"][result['polarity']==0].reset_index(drop=True)"
   ]
  },
  {
   "cell_type": "code",
   "execution_count": 65,
   "metadata": {},
   "outputs": [
    {
     "output_type": "execute_result",
     "data": {
      "text/plain": "0    Government of the Punjab, School Education Dep...\n1    RT : Our alumni, Siddarameshs son (Suharsh) is...\n2    RT : Dengue &amp; viral fever has become an ep...\n3    RT : 31 Dengue Cases In Delhi Till August 1; F...\n4    RT : #Kakinada Need #Blood Type : A-positive A...\n5    In Dengue fever, Normally critical phases occu...\n6    RT : Our alumni, Siddarameshs son (Suharsh) is...\n7    RT : Dengue &amp; viral fever has become an ep...\n8    RT : Our alumni, Siddarameshs son (Suharsh) is...\nName: text, dtype: object"
     },
     "metadata": {},
     "execution_count": 65
    }
   ],
   "source": [
    "past_x_min = datetime.datetime.now() + datetime.timedelta(\n",
    "    minutes=parameters.TIME_PERIOD_MIN\n",
    ")"
   ]
  },
  {
   "cell_type": "code",
   "execution_count": 30,
   "metadata": {},
   "outputs": [
    {
     "output_type": "execute_result",
     "data": {
      "text/plain": "                 Time  polarity  Num of 'dengue' mentions  text\n0 2020-08-08 14:39:00         0                         1     1\n1 2020-08-08 14:42:00         0                         1     1\n2 2020-08-08 14:44:00         0                         2     2\n3 2020-08-08 14:47:00         0                         1     1\n4 2020-08-08 14:48:00         0                         1     1\n5 2020-08-08 14:50:00         0                         1     1\n6 2020-08-08 14:51:00         0                         1     1\n7 2020-08-08 15:02:00         0                         1     1",
      "text/html": "<div>\n<style scoped>\n    .dataframe tbody tr th:only-of-type {\n        vertical-align: middle;\n    }\n\n    .dataframe tbody tr th {\n        vertical-align: top;\n    }\n\n    .dataframe thead th {\n        text-align: right;\n    }\n</style>\n<table border=\"1\" class=\"dataframe\">\n  <thead>\n    <tr style=\"text-align: right;\">\n      <th></th>\n      <th>Time</th>\n      <th>polarity</th>\n      <th>Num of 'dengue' mentions</th>\n      <th>text</th>\n    </tr>\n  </thead>\n  <tbody>\n    <tr>\n      <td>0</td>\n      <td>2020-08-08 14:39:00</td>\n      <td>0</td>\n      <td>1</td>\n      <td>1</td>\n    </tr>\n    <tr>\n      <td>1</td>\n      <td>2020-08-08 14:42:00</td>\n      <td>0</td>\n      <td>1</td>\n      <td>1</td>\n    </tr>\n    <tr>\n      <td>2</td>\n      <td>2020-08-08 14:44:00</td>\n      <td>0</td>\n      <td>2</td>\n      <td>2</td>\n    </tr>\n    <tr>\n      <td>3</td>\n      <td>2020-08-08 14:47:00</td>\n      <td>0</td>\n      <td>1</td>\n      <td>1</td>\n    </tr>\n    <tr>\n      <td>4</td>\n      <td>2020-08-08 14:48:00</td>\n      <td>0</td>\n      <td>1</td>\n      <td>1</td>\n    </tr>\n    <tr>\n      <td>5</td>\n      <td>2020-08-08 14:50:00</td>\n      <td>0</td>\n      <td>1</td>\n      <td>1</td>\n    </tr>\n    <tr>\n      <td>6</td>\n      <td>2020-08-08 14:51:00</td>\n      <td>0</td>\n      <td>1</td>\n      <td>1</td>\n    </tr>\n    <tr>\n      <td>7</td>\n      <td>2020-08-08 15:02:00</td>\n      <td>0</td>\n      <td>1</td>\n      <td>1</td>\n    </tr>\n  </tbody>\n</table>\n</div>"
     },
     "metadata": {},
     "execution_count": 30
    }
   ],
   "source": [
    "result"
   ]
  },
  {
   "cell_type": "code",
   "execution_count": 89,
   "metadata": {},
   "outputs": [],
   "source": [
    "past_hour = datetime.datetime.now() - datetime.timedelta(hours=1)\n",
    "\n",
    "neu_num = result[result[\"Time\"] > past_hour][\n",
    "    \"Num of '{}' mentions\".format('dengue')\n",
    "][result[\"polarity\"] == 0].sum()\n",
    "neg_num = result[result[\"Time\"] > past_hour][\n",
    "    \"Num of '{}' mentions\".format('dengue')\n",
    "][result[\"polarity\"] == -1].sum()\n",
    "pos_num = result[result[\"Time\"] > past_hour][\n",
    "    \"Num of '{}' mentions\".format('dengue')\n",
    "][result[\"polarity\"] == 1].sum()"
   ]
  },
  {
   "cell_type": "code",
   "execution_count": 96,
   "metadata": {},
   "outputs": [
    {
     "output_type": "execute_result",
     "data": {
      "text/plain": "0    False\n1    False\n2    False\n3    False\n4    False\nName: Time, dtype: bool"
     },
     "metadata": {},
     "execution_count": 96
    }
   ],
   "source": [
    "result[\"Time\"] > past_hour"
   ]
  },
  {
   "cell_type": "code",
   "execution_count": 95,
   "metadata": {},
   "outputs": [
    {
     "output_type": "execute_result",
     "data": {
      "text/plain": "0"
     },
     "metadata": {},
     "execution_count": 95
    }
   ],
   "source": [
    "neg_num"
   ]
  },
  {
   "cell_type": "code",
   "execution_count": 68,
   "metadata": {},
   "outputs": [
    {
     "output_type": "execute_result",
     "data": {
      "text/plain": "datetime.datetime(2020, 8, 8, 16, 18, 45, 148164)"
     },
     "metadata": {},
     "execution_count": 68
    }
   ],
   "source": [
    "min20"
   ]
  },
  {
   "cell_type": "code",
   "execution_count": 86,
   "metadata": {
    "tags": []
   },
   "outputs": [
    {
     "output_type": "execute_result",
     "data": {
      "text/plain": "['Government',\n 'of',\n 'the',\n 'Punjab',\n ',',\n 'School',\n 'Education',\n 'Department',\n '(',\n 'Monitoring',\n 'Wing',\n ')',\n 'has',\n 'issued',\n 'the',\n 'official',\n 'Notification',\n 'letter',\n 'RT',\n ':',\n 'Our',\n 'alumni',\n ',',\n 'Siddarameshs',\n 'son',\n '(',\n 'Suharsh',\n ')',\n 'is',\n 'diagnosed',\n 'with',\n 'dengue',\n '.',\n 'He',\n 'might',\n 'need',\n 'platelet',\n 'transfusion',\n '.',\n 'His',\n 'blood',\n 'group',\n 'is',\n 'O',\n 'RT',\n ':',\n 'Dengue',\n '&',\n 'viral',\n 'fever',\n 'has',\n 'become',\n 'an',\n 'epidemic',\n 'in',\n 'the',\n 'city',\n '.',\n 'Do',\n 'an',\n 'extra',\n 'bit',\n 'in',\n 'keeping',\n 'your',\n 'premises',\n '&',\n 'neighborhood',\n 'free',\n 'f',\n 'RT',\n ':',\n '31',\n 'Dengue',\n 'Cases',\n 'In',\n 'Delhi',\n 'Till',\n 'August',\n '1',\n ';',\n 'Fever',\n 'Clinics',\n 'Set',\n 'Up',\n ',',\n 'Campaign',\n 'Intensified',\n 'RT',\n ':',\n '#Kakinada',\n 'Need',\n '#Blood',\n 'Type',\n ':',\n 'A-positive',\n 'At',\n ':',\n 'Kusuma',\n 'Hospital',\n 'Blood',\n 'Component',\n ':',\n 'Blood',\n 'Number',\n 'of',\n 'Units',\n ':',\n '2',\n 'Primary',\n 'Number',\n 'In',\n 'Dengue',\n 'fever',\n ',',\n 'Normally',\n 'critical',\n 'phases',\n 'occur',\n '3-7',\n 'days',\n 'after',\n 'first',\n 'signs',\n '.',\n 'If',\n 'you',\n 'have',\n 'any',\n 'persistent',\n 'signs',\n 'or',\n 'sym',\n 'RT',\n ':',\n 'Our',\n 'alumni',\n ',',\n 'Siddarameshs',\n 'son',\n '(',\n 'Suharsh',\n ')',\n 'is',\n 'diagnosed',\n 'with',\n 'dengue',\n '.',\n 'He',\n 'might',\n 'need',\n 'platelet',\n 'transfusion',\n '.',\n 'His',\n 'blood',\n 'group',\n 'is',\n 'O',\n 'RT',\n ':',\n 'Dengue',\n '&',\n 'viral',\n 'fever',\n 'has',\n 'become',\n 'an',\n 'epidemic',\n 'in',\n 'the',\n 'city',\n '.',\n 'Do',\n 'an',\n 'extra',\n 'bit',\n 'in',\n 'keeping',\n 'your',\n 'premises',\n '&',\n 'neighborhood',\n 'free',\n 'f',\n 'RT',\n ':',\n 'Our',\n 'alumni',\n ',',\n 'Siddarameshs',\n 'son',\n '(',\n 'Suharsh',\n ')',\n 'is',\n 'diagnosed',\n 'with',\n 'dengue',\n '.',\n 'He',\n 'might',\n 'need',\n 'platelet',\n 'transfusion',\n '.',\n 'His',\n 'blood',\n 'group',\n 'is',\n 'O']"
     },
     "metadata": {},
     "execution_count": 86
    }
   ],
   "source": [
    "from nltk.tokenize import TweetTokenizer\n",
    "tknzr = TweetTokenizer()\n",
    "tknzr.tokenize(\" \".join([i for i in df.text]))"
   ]
  },
  {
   "cell_type": "code",
   "execution_count": 81,
   "metadata": {},
   "outputs": [
    {
     "output_type": "execute_result",
     "data": {
      "text/plain": "'Government of the Punjab, School Education Department (Monitoring Wing) has issued the official Notification letter RT : Our alumni, Siddarameshs son (Suharsh) is diagnosed with dengue. He might need platelet transfusion. His blood group is O RT : Dengue &amp; viral fever has become an epidemic in the city. Do an extra bit in keeping your premises &amp; neighborhood free f RT : 31 Dengue Cases In Delhi Till August 1; Fever Clinics Set Up, Campaign Intensified RT : #Kakinada Need #Blood Type : A-positive At : Kusuma Hospital Blood Component : Blood Number of Units : 2 Primary Number In Dengue fever, Normally critical phases occur 3-7 days after first signs. If you have any persistent signs or sym RT : Our alumni, Siddarameshs son (Suharsh) is diagnosed with dengue. He might need platelet transfusion. His blood group is O RT : Dengue &amp; viral fever has become an epidemic in the city. Do an extra bit in keeping your premises &amp; neighborhood free f RT : Our alumni, Siddarameshs son (Suharsh) is diagnosed with dengue. He might need platelet transfusion. His blood group is O'"
     },
     "metadata": {},
     "execution_count": 81
    }
   ],
   "source": []
  },
  {
   "cell_type": "code",
   "execution_count": 4,
   "metadata": {},
   "outputs": [
    {
     "output_type": "execute_result",
     "data": {
      "text/plain": "datetime.datetime(2020, 8, 8, 11, 43, 54, 603152)"
     },
     "metadata": {},
     "execution_count": 4
    }
   ],
   "source": [
    "import datetime\n",
    "datetime.datetime.now() - datetime.timedelta(\n",
    "        minutes=60*24\n",
    "    )"
   ]
  },
  {
   "cell_type": "code",
   "execution_count": 51,
   "metadata": {
    "tags": []
   },
   "outputs": [],
   "source": [
    "db_connection = mysql.connector.connect(\n",
    "    host=\"localhost\",\n",
    "    user=\"root\",\n",
    "    passwd=\"password\",\n",
    "    database=\"TwitterDB\",\n",
    "    charset=\"utf8\",\n",
    ")\n",
    "mycursor = db_connection.cursor(buffered=True)\n",
    "sql = \"SELECT created_at FROM {0} WHERE created_at < NOW() - INTERVAL 10 DAY;\".format(\n",
    "    'dengue'\n",
    ")\n",
    "mycursor.execute(sql)\n",
    "for a in mycursor:\n",
    "    print( a)"
   ]
  },
  {
   "cell_type": "code",
   "execution_count": 52,
   "metadata": {},
   "outputs": [],
   "source": [
    "import parameters\n",
    "import pandas as pd\n",
    "# Load last 24 hour data from MySQL\n",
    "timenow = (\n",
    "    datetime.datetime.now()\n",
    "    - datetime.timedelta(hours=0, minutes=parameters.TIME_PERIOD_MIN)\n",
    ").strftime(\"%Y-%m-%d %H:%M:%S\")\n",
    "\n",
    "query = \"SELECT id_str, text, created_at, polarity FROM {} WHERE created_at >= '{}' \".format(\n",
    "    \"dengue\", timenow\n",
    ")\n",
    "\n",
    "df = pd.read_sql(query, con=db_connection)\n",
    "\n",
    "# Convert UTC into SGT\n",
    "df[\"created_at\"] = pd.to_datetime(df[\"created_at\"]).apply(\n",
    "    lambda x: x + datetime.timedelta(hours=6)\n",
    ")\n",
    "\n",
    "# # Clean and transform data to enable time series\n",
    "# # Bin into 5 minutes\n",
    "# result = (\n",
    "#     df.groupby([pd.Grouper(key=\"created_at\", freq=\"5min\"), \"polarity\"])\n",
    "#     .count()\n",
    "#     .reset_index()\n",
    "# )\n",
    "# result = result.rename(\n",
    "#     columns={\n",
    "#         \"id_str\": \"Num of '{}' mentions\".format(parameters.TRACK_WORDS[0]),\n",
    "#         \"created_at\": \"Time\",\n",
    "#     }\n",
    "# )\n",
    "# time_series = result[\"Time\"][result[\"polarity\"] == 0].reset_index(drop=True)"
   ]
  },
  {
   "cell_type": "code",
   "execution_count": 53,
   "metadata": {},
   "outputs": [
    {
     "output_type": "execute_result",
     "data": {
      "text/plain": "                 id_str                                               text  \\\n0   1292331886979629057  Need B ve blood group donor for dengue patient...   \n1   1292332086817300482  If AZ was at 1 2 mortality point on 8 1 then g...   \n2   1292332087035518977  Do you think it s okay that Democrat politicia...   \n3   1292332087517884416  Very well explained shameongujaratparentassoci...   \n4   1292332087417044992  HCQ Cures Cancer This will Unite the World aga...   \n..                  ...                                                ...   \n83  1292332114419970048  Ro264 Deeply saddened to hear the news about v...   \n84  1292332115174948865  Ro264 Deeply saddened to hear the news about v...   \n85  1292332115472846849  broski YOU SHOULD NOT HAVE TO BE PERSONALLY AF...   \n86  1292332115674054656  HPK Today my Dad lost his battle against COVID...   \n87  1292332115720249344  B C health officials are becoming concerned af...   \n\n            created_at  polarity  \n0  2020-08-09 11:28:26         0  \n1  2020-08-09 11:29:14         0  \n2  2020-08-09 11:29:14         1  \n3  2020-08-09 11:29:14         0  \n4  2020-08-09 11:29:14         0  \n..                 ...       ...  \n83 2020-08-09 11:29:21         0  \n84 2020-08-09 11:29:21         0  \n85 2020-08-09 11:29:21         0  \n86 2020-08-09 11:29:21         0  \n87 2020-08-09 11:29:21         0  \n\n[88 rows x 4 columns]",
      "text/html": "<div>\n<style scoped>\n    .dataframe tbody tr th:only-of-type {\n        vertical-align: middle;\n    }\n\n    .dataframe tbody tr th {\n        vertical-align: top;\n    }\n\n    .dataframe thead th {\n        text-align: right;\n    }\n</style>\n<table border=\"1\" class=\"dataframe\">\n  <thead>\n    <tr style=\"text-align: right;\">\n      <th></th>\n      <th>id_str</th>\n      <th>text</th>\n      <th>created_at</th>\n      <th>polarity</th>\n    </tr>\n  </thead>\n  <tbody>\n    <tr>\n      <td>0</td>\n      <td>1292331886979629057</td>\n      <td>Need B ve blood group donor for dengue patient...</td>\n      <td>2020-08-09 11:28:26</td>\n      <td>0</td>\n    </tr>\n    <tr>\n      <td>1</td>\n      <td>1292332086817300482</td>\n      <td>If AZ was at 1 2 mortality point on 8 1 then g...</td>\n      <td>2020-08-09 11:29:14</td>\n      <td>0</td>\n    </tr>\n    <tr>\n      <td>2</td>\n      <td>1292332087035518977</td>\n      <td>Do you think it s okay that Democrat politicia...</td>\n      <td>2020-08-09 11:29:14</td>\n      <td>1</td>\n    </tr>\n    <tr>\n      <td>3</td>\n      <td>1292332087517884416</td>\n      <td>Very well explained shameongujaratparentassoci...</td>\n      <td>2020-08-09 11:29:14</td>\n      <td>0</td>\n    </tr>\n    <tr>\n      <td>4</td>\n      <td>1292332087417044992</td>\n      <td>HCQ Cures Cancer This will Unite the World aga...</td>\n      <td>2020-08-09 11:29:14</td>\n      <td>0</td>\n    </tr>\n    <tr>\n      <td>...</td>\n      <td>...</td>\n      <td>...</td>\n      <td>...</td>\n      <td>...</td>\n    </tr>\n    <tr>\n      <td>83</td>\n      <td>1292332114419970048</td>\n      <td>Ro264 Deeply saddened to hear the news about v...</td>\n      <td>2020-08-09 11:29:21</td>\n      <td>0</td>\n    </tr>\n    <tr>\n      <td>84</td>\n      <td>1292332115174948865</td>\n      <td>Ro264 Deeply saddened to hear the news about v...</td>\n      <td>2020-08-09 11:29:21</td>\n      <td>0</td>\n    </tr>\n    <tr>\n      <td>85</td>\n      <td>1292332115472846849</td>\n      <td>broski YOU SHOULD NOT HAVE TO BE PERSONALLY AF...</td>\n      <td>2020-08-09 11:29:21</td>\n      <td>0</td>\n    </tr>\n    <tr>\n      <td>86</td>\n      <td>1292332115674054656</td>\n      <td>HPK Today my Dad lost his battle against COVID...</td>\n      <td>2020-08-09 11:29:21</td>\n      <td>0</td>\n    </tr>\n    <tr>\n      <td>87</td>\n      <td>1292332115720249344</td>\n      <td>B C health officials are becoming concerned af...</td>\n      <td>2020-08-09 11:29:21</td>\n      <td>0</td>\n    </tr>\n  </tbody>\n</table>\n<p>88 rows × 4 columns</p>\n</div>"
     },
     "metadata": {},
     "execution_count": 53
    }
   ],
   "source": [
    "df"
   ]
  },
  {
   "cell_type": "code",
   "execution_count": 45,
   "metadata": {},
   "outputs": [
    {
     "output_type": "execute_result",
     "data": {
      "text/plain": "[28,\n 18,\n 21,\n 10,\n 3,\n 6,\n 1,\n 8,\n 2,\n 27,\n 17,\n 18,\n 11,\n 13,\n 23,\n 26,\n 16,\n 15,\n 14,\n 14,\n 8,\n 22,\n 3,\n 23,\n 13,\n 17,\n 21,\n 16,\n 4,\n 18]"
     },
     "metadata": {},
     "execution_count": 45
    }
   ],
   "source": [
    "import random \n",
    "random.choices(range(30), k=30)"
   ]
  },
  {
   "cell_type": "code",
   "execution_count": 54,
   "metadata": {},
   "outputs": [
    {
     "output_type": "execute_result",
     "data": {
      "text/plain": "            words               color  weights   x   y\n0             the  rgb(227, 119, 194)       34  43  47\n1              to   rgb(23, 190, 207)       33  45  20\n2               a    rgb(140, 86, 75)       32   0  10\n3              of    rgb(214, 39, 40)       31  44  30\n4             and  rgb(148, 103, 189)       30  38   1\n5              in  rgb(127, 127, 127)       29  10   3\n6           COVID    rgb(140, 86, 75)       28   7   9\n7              19    rgb(214, 39, 40)       27   4  44\n8             for  rgb(227, 119, 194)       26  46   2\n9            have  rgb(127, 127, 127)       25  48   3\n10              I   rgb(23, 190, 207)       24  18  12\n11            him  rgb(127, 127, 127)       23   8  28\n12             on  rgb(127, 127, 127)       22  36  29\n13          Covid   rgb(255, 127, 14)       21   2  30\n14             is   rgb(255, 127, 14)       20  15  28\n15           with  rgb(127, 127, 127)       19  37  42\n16              1   rgb(255, 127, 14)       18  18   1\n17              2    rgb(140, 86, 75)       17  43  14\n18        against    rgb(214, 39, 40)       16  34  46\n19            out  rgb(148, 103, 189)       15  29  27\n20            The   rgb(23, 190, 207)       15   9   5\n21            She  rgb(227, 119, 194)       15  45  26\n22           will    rgb(214, 39, 40)       15   0  20\n23           They   rgb(23, 190, 207)       15  24  31\n24            let  rgb(148, 103, 189)       15  38  23\n25            000    rgb(140, 86, 75)       15  24  21\n26              3  rgb(227, 119, 194)       15  25  32\n27             be  rgb(148, 103, 189)       15  45  19\n28              s   rgb(255, 127, 14)       15  17  45\n29             at    rgb(140, 86, 75)       15  34   8\n30           that    rgb(44, 160, 44)       15  17  19\n31           even  rgb(227, 119, 194)       15  14  16\n32      testified  rgb(148, 103, 189)       15  20  11\n33          court   rgb(255, 127, 14)       15  13  46\n34             25    rgb(214, 39, 40)       15  17  15\n35           bond  rgb(127, 127, 127)       15  36  14\n36           rape    rgb(214, 39, 40)       15  31  44\n37  strangulation  rgb(148, 103, 189)       15  38  30\n38      abduction    rgb(44, 160, 44)       15  43   9\n39             we  rgb(227, 119, 194)       15  12   5\n40           been   rgb(255, 127, 14)       15  33  21\n41             my    rgb(44, 160, 44)       15  21  24\n42            who   rgb(23, 190, 207)       15  49  49\n43             as  rgb(227, 119, 194)       15  19  48\n44            you  rgb(227, 119, 194)       15  22  13\n45              t  rgb(227, 119, 194)       15  39   4\n46           this  rgb(127, 127, 127)       15  41  48\n47            our    rgb(140, 86, 75)       15  40  27\n48             by   rgb(188, 189, 34)       15  41   2\n49            are  rgb(227, 119, 194)       15  19  25",
      "text/html": "<div>\n<style scoped>\n    .dataframe tbody tr th:only-of-type {\n        vertical-align: middle;\n    }\n\n    .dataframe tbody tr th {\n        vertical-align: top;\n    }\n\n    .dataframe thead th {\n        text-align: right;\n    }\n</style>\n<table border=\"1\" class=\"dataframe\">\n  <thead>\n    <tr style=\"text-align: right;\">\n      <th></th>\n      <th>words</th>\n      <th>color</th>\n      <th>weights</th>\n      <th>x</th>\n      <th>y</th>\n    </tr>\n  </thead>\n  <tbody>\n    <tr>\n      <td>0</td>\n      <td>the</td>\n      <td>rgb(227, 119, 194)</td>\n      <td>34</td>\n      <td>43</td>\n      <td>47</td>\n    </tr>\n    <tr>\n      <td>1</td>\n      <td>to</td>\n      <td>rgb(23, 190, 207)</td>\n      <td>33</td>\n      <td>45</td>\n      <td>20</td>\n    </tr>\n    <tr>\n      <td>2</td>\n      <td>a</td>\n      <td>rgb(140, 86, 75)</td>\n      <td>32</td>\n      <td>0</td>\n      <td>10</td>\n    </tr>\n    <tr>\n      <td>3</td>\n      <td>of</td>\n      <td>rgb(214, 39, 40)</td>\n      <td>31</td>\n      <td>44</td>\n      <td>30</td>\n    </tr>\n    <tr>\n      <td>4</td>\n      <td>and</td>\n      <td>rgb(148, 103, 189)</td>\n      <td>30</td>\n      <td>38</td>\n      <td>1</td>\n    </tr>\n    <tr>\n      <td>5</td>\n      <td>in</td>\n      <td>rgb(127, 127, 127)</td>\n      <td>29</td>\n      <td>10</td>\n      <td>3</td>\n    </tr>\n    <tr>\n      <td>6</td>\n      <td>COVID</td>\n      <td>rgb(140, 86, 75)</td>\n      <td>28</td>\n      <td>7</td>\n      <td>9</td>\n    </tr>\n    <tr>\n      <td>7</td>\n      <td>19</td>\n      <td>rgb(214, 39, 40)</td>\n      <td>27</td>\n      <td>4</td>\n      <td>44</td>\n    </tr>\n    <tr>\n      <td>8</td>\n      <td>for</td>\n      <td>rgb(227, 119, 194)</td>\n      <td>26</td>\n      <td>46</td>\n      <td>2</td>\n    </tr>\n    <tr>\n      <td>9</td>\n      <td>have</td>\n      <td>rgb(127, 127, 127)</td>\n      <td>25</td>\n      <td>48</td>\n      <td>3</td>\n    </tr>\n    <tr>\n      <td>10</td>\n      <td>I</td>\n      <td>rgb(23, 190, 207)</td>\n      <td>24</td>\n      <td>18</td>\n      <td>12</td>\n    </tr>\n    <tr>\n      <td>11</td>\n      <td>him</td>\n      <td>rgb(127, 127, 127)</td>\n      <td>23</td>\n      <td>8</td>\n      <td>28</td>\n    </tr>\n    <tr>\n      <td>12</td>\n      <td>on</td>\n      <td>rgb(127, 127, 127)</td>\n      <td>22</td>\n      <td>36</td>\n      <td>29</td>\n    </tr>\n    <tr>\n      <td>13</td>\n      <td>Covid</td>\n      <td>rgb(255, 127, 14)</td>\n      <td>21</td>\n      <td>2</td>\n      <td>30</td>\n    </tr>\n    <tr>\n      <td>14</td>\n      <td>is</td>\n      <td>rgb(255, 127, 14)</td>\n      <td>20</td>\n      <td>15</td>\n      <td>28</td>\n    </tr>\n    <tr>\n      <td>15</td>\n      <td>with</td>\n      <td>rgb(127, 127, 127)</td>\n      <td>19</td>\n      <td>37</td>\n      <td>42</td>\n    </tr>\n    <tr>\n      <td>16</td>\n      <td>1</td>\n      <td>rgb(255, 127, 14)</td>\n      <td>18</td>\n      <td>18</td>\n      <td>1</td>\n    </tr>\n    <tr>\n      <td>17</td>\n      <td>2</td>\n      <td>rgb(140, 86, 75)</td>\n      <td>17</td>\n      <td>43</td>\n      <td>14</td>\n    </tr>\n    <tr>\n      <td>18</td>\n      <td>against</td>\n      <td>rgb(214, 39, 40)</td>\n      <td>16</td>\n      <td>34</td>\n      <td>46</td>\n    </tr>\n    <tr>\n      <td>19</td>\n      <td>out</td>\n      <td>rgb(148, 103, 189)</td>\n      <td>15</td>\n      <td>29</td>\n      <td>27</td>\n    </tr>\n    <tr>\n      <td>20</td>\n      <td>The</td>\n      <td>rgb(23, 190, 207)</td>\n      <td>15</td>\n      <td>9</td>\n      <td>5</td>\n    </tr>\n    <tr>\n      <td>21</td>\n      <td>She</td>\n      <td>rgb(227, 119, 194)</td>\n      <td>15</td>\n      <td>45</td>\n      <td>26</td>\n    </tr>\n    <tr>\n      <td>22</td>\n      <td>will</td>\n      <td>rgb(214, 39, 40)</td>\n      <td>15</td>\n      <td>0</td>\n      <td>20</td>\n    </tr>\n    <tr>\n      <td>23</td>\n      <td>They</td>\n      <td>rgb(23, 190, 207)</td>\n      <td>15</td>\n      <td>24</td>\n      <td>31</td>\n    </tr>\n    <tr>\n      <td>24</td>\n      <td>let</td>\n      <td>rgb(148, 103, 189)</td>\n      <td>15</td>\n      <td>38</td>\n      <td>23</td>\n    </tr>\n    <tr>\n      <td>25</td>\n      <td>000</td>\n      <td>rgb(140, 86, 75)</td>\n      <td>15</td>\n      <td>24</td>\n      <td>21</td>\n    </tr>\n    <tr>\n      <td>26</td>\n      <td>3</td>\n      <td>rgb(227, 119, 194)</td>\n      <td>15</td>\n      <td>25</td>\n      <td>32</td>\n    </tr>\n    <tr>\n      <td>27</td>\n      <td>be</td>\n      <td>rgb(148, 103, 189)</td>\n      <td>15</td>\n      <td>45</td>\n      <td>19</td>\n    </tr>\n    <tr>\n      <td>28</td>\n      <td>s</td>\n      <td>rgb(255, 127, 14)</td>\n      <td>15</td>\n      <td>17</td>\n      <td>45</td>\n    </tr>\n    <tr>\n      <td>29</td>\n      <td>at</td>\n      <td>rgb(140, 86, 75)</td>\n      <td>15</td>\n      <td>34</td>\n      <td>8</td>\n    </tr>\n    <tr>\n      <td>30</td>\n      <td>that</td>\n      <td>rgb(44, 160, 44)</td>\n      <td>15</td>\n      <td>17</td>\n      <td>19</td>\n    </tr>\n    <tr>\n      <td>31</td>\n      <td>even</td>\n      <td>rgb(227, 119, 194)</td>\n      <td>15</td>\n      <td>14</td>\n      <td>16</td>\n    </tr>\n    <tr>\n      <td>32</td>\n      <td>testified</td>\n      <td>rgb(148, 103, 189)</td>\n      <td>15</td>\n      <td>20</td>\n      <td>11</td>\n    </tr>\n    <tr>\n      <td>33</td>\n      <td>court</td>\n      <td>rgb(255, 127, 14)</td>\n      <td>15</td>\n      <td>13</td>\n      <td>46</td>\n    </tr>\n    <tr>\n      <td>34</td>\n      <td>25</td>\n      <td>rgb(214, 39, 40)</td>\n      <td>15</td>\n      <td>17</td>\n      <td>15</td>\n    </tr>\n    <tr>\n      <td>35</td>\n      <td>bond</td>\n      <td>rgb(127, 127, 127)</td>\n      <td>15</td>\n      <td>36</td>\n      <td>14</td>\n    </tr>\n    <tr>\n      <td>36</td>\n      <td>rape</td>\n      <td>rgb(214, 39, 40)</td>\n      <td>15</td>\n      <td>31</td>\n      <td>44</td>\n    </tr>\n    <tr>\n      <td>37</td>\n      <td>strangulation</td>\n      <td>rgb(148, 103, 189)</td>\n      <td>15</td>\n      <td>38</td>\n      <td>30</td>\n    </tr>\n    <tr>\n      <td>38</td>\n      <td>abduction</td>\n      <td>rgb(44, 160, 44)</td>\n      <td>15</td>\n      <td>43</td>\n      <td>9</td>\n    </tr>\n    <tr>\n      <td>39</td>\n      <td>we</td>\n      <td>rgb(227, 119, 194)</td>\n      <td>15</td>\n      <td>12</td>\n      <td>5</td>\n    </tr>\n    <tr>\n      <td>40</td>\n      <td>been</td>\n      <td>rgb(255, 127, 14)</td>\n      <td>15</td>\n      <td>33</td>\n      <td>21</td>\n    </tr>\n    <tr>\n      <td>41</td>\n      <td>my</td>\n      <td>rgb(44, 160, 44)</td>\n      <td>15</td>\n      <td>21</td>\n      <td>24</td>\n    </tr>\n    <tr>\n      <td>42</td>\n      <td>who</td>\n      <td>rgb(23, 190, 207)</td>\n      <td>15</td>\n      <td>49</td>\n      <td>49</td>\n    </tr>\n    <tr>\n      <td>43</td>\n      <td>as</td>\n      <td>rgb(227, 119, 194)</td>\n      <td>15</td>\n      <td>19</td>\n      <td>48</td>\n    </tr>\n    <tr>\n      <td>44</td>\n      <td>you</td>\n      <td>rgb(227, 119, 194)</td>\n      <td>15</td>\n      <td>22</td>\n      <td>13</td>\n    </tr>\n    <tr>\n      <td>45</td>\n      <td>t</td>\n      <td>rgb(227, 119, 194)</td>\n      <td>15</td>\n      <td>39</td>\n      <td>4</td>\n    </tr>\n    <tr>\n      <td>46</td>\n      <td>this</td>\n      <td>rgb(127, 127, 127)</td>\n      <td>15</td>\n      <td>41</td>\n      <td>48</td>\n    </tr>\n    <tr>\n      <td>47</td>\n      <td>our</td>\n      <td>rgb(140, 86, 75)</td>\n      <td>15</td>\n      <td>40</td>\n      <td>27</td>\n    </tr>\n    <tr>\n      <td>48</td>\n      <td>by</td>\n      <td>rgb(188, 189, 34)</td>\n      <td>15</td>\n      <td>41</td>\n      <td>2</td>\n    </tr>\n    <tr>\n      <td>49</td>\n      <td>are</td>\n      <td>rgb(227, 119, 194)</td>\n      <td>15</td>\n      <td>19</td>\n      <td>25</td>\n    </tr>\n  </tbody>\n</table>\n</div>"
     },
     "metadata": {},
     "execution_count": 54
    }
   ],
   "source": [
    "    tknzr = TweetTokenizer()\n",
    "    full_words = tknzr.tokenize(\" \".join([i for i in df.text]))\n",
    "    counted = Counter(full_words)\n",
    "    words = [tup[0] for tup in counted.most_common()[:50]]\n",
    "    colors = [\n",
    "        plotly.colors.DEFAULT_PLOTLY_COLORS[random.randrange(1, 10)]\n",
    "        for i in range(len(words))\n",
    "    ]\n",
    "    # full_weights = [tup[1] for tup in counted.most_common()[: len(words)]]\n",
    "    weights = [i for i in range(15, 35)][::-1] + ([15] * (len(words) - (35 - 15)))\n",
    "    wc_data = pd.DataFrame(\n",
    "        {\n",
    "            \"words\": words,\n",
    "            \"color\": colors,\n",
    "            \"weights\": weights,\n",
    "            \"x\": random.choices(range(len(words)), k=len(words)),\n",
    "            \"y\": random.choices(range(len(words)), k=len(words)),\n",
    "        }\n",
    "    )\n",
    "    wc_data"
   ]
  },
  {
   "cell_type": "code",
   "execution_count": 45,
   "metadata": {},
   "outputs": [
    {
     "output_type": "execute_result",
     "data": {
      "text/plain": "50"
     },
     "metadata": {},
     "execution_count": 45
    }
   ],
   "source": [
    "len(colors)"
   ]
  },
  {
   "cell_type": "code",
   "execution_count": 57,
   "metadata": {},
   "outputs": [
    {
     "output_type": "error",
     "ename": "TypeError",
     "evalue": "expected string or bytes-like object",
     "traceback": [
      "\u001b[1;31m---------------------------------------------------------------------------\u001b[0m",
      "\u001b[1;31mTypeError\u001b[0m                                 Traceback (most recent call last)",
      "\u001b[1;32m<ipython-input-57-7108bd62e4d5>\u001b[0m in \u001b[0;36m<module>\u001b[1;34m\u001b[0m\n\u001b[0;32m      2\u001b[0m \u001b[1;33m\u001b[0m\u001b[0m\n\u001b[0;32m      3\u001b[0m \u001b[0mwc\u001b[0m \u001b[1;33m=\u001b[0m \u001b[0mWordCloud\u001b[0m\u001b[1;33m(\u001b[0m\u001b[0mmax_words\u001b[0m\u001b[1;33m=\u001b[0m\u001b[1;36m50\u001b[0m\u001b[1;33m,\u001b[0m \u001b[0mmax_font_size\u001b[0m\u001b[1;33m=\u001b[0m\u001b[1;36m35\u001b[0m\u001b[1;33m)\u001b[0m\u001b[1;33m\u001b[0m\u001b[0m\n\u001b[1;32m----> 4\u001b[1;33m \u001b[0mwc\u001b[0m\u001b[1;33m.\u001b[0m\u001b[0mgenerate\u001b[0m\u001b[1;33m(\u001b[0m\u001b[0mdf\u001b[0m\u001b[1;33m.\u001b[0m\u001b[0mtext\u001b[0m\u001b[1;33m)\u001b[0m\u001b[1;33m\u001b[0m\u001b[0m\n\u001b[0m\u001b[0;32m      5\u001b[0m \u001b[1;33m\u001b[0m\u001b[0m\n\u001b[0;32m      6\u001b[0m \u001b[0mword_list\u001b[0m \u001b[1;33m=\u001b[0m \u001b[1;33m[\u001b[0m\u001b[1;33m]\u001b[0m\u001b[1;33m\u001b[0m\u001b[0m\n",
      "\u001b[1;32m~\\Anaconda3\\lib\\site-packages\\wordcloud\\wordcloud.py\u001b[0m in \u001b[0;36mgenerate\u001b[1;34m(self, text)\u001b[0m\n\u001b[0;32m    603\u001b[0m         \u001b[0mself\u001b[0m\u001b[1;33m\u001b[0m\u001b[0m\n\u001b[0;32m    604\u001b[0m         \"\"\"\n\u001b[1;32m--> 605\u001b[1;33m         \u001b[1;32mreturn\u001b[0m \u001b[0mself\u001b[0m\u001b[1;33m.\u001b[0m\u001b[0mgenerate_from_text\u001b[0m\u001b[1;33m(\u001b[0m\u001b[0mtext\u001b[0m\u001b[1;33m)\u001b[0m\u001b[1;33m\u001b[0m\u001b[0m\n\u001b[0m\u001b[0;32m    606\u001b[0m \u001b[1;33m\u001b[0m\u001b[0m\n\u001b[0;32m    607\u001b[0m     \u001b[1;32mdef\u001b[0m \u001b[0m_check_generated\u001b[0m\u001b[1;33m(\u001b[0m\u001b[0mself\u001b[0m\u001b[1;33m)\u001b[0m\u001b[1;33m:\u001b[0m\u001b[1;33m\u001b[0m\u001b[0m\n",
      "\u001b[1;32m~\\Anaconda3\\lib\\site-packages\\wordcloud\\wordcloud.py\u001b[0m in \u001b[0;36mgenerate_from_text\u001b[1;34m(self, text)\u001b[0m\n\u001b[0;32m    584\u001b[0m         \u001b[0mself\u001b[0m\u001b[1;33m\u001b[0m\u001b[0m\n\u001b[0;32m    585\u001b[0m         \"\"\"\n\u001b[1;32m--> 586\u001b[1;33m         \u001b[0mwords\u001b[0m \u001b[1;33m=\u001b[0m \u001b[0mself\u001b[0m\u001b[1;33m.\u001b[0m\u001b[0mprocess_text\u001b[0m\u001b[1;33m(\u001b[0m\u001b[0mtext\u001b[0m\u001b[1;33m)\u001b[0m\u001b[1;33m\u001b[0m\u001b[0m\n\u001b[0m\u001b[0;32m    587\u001b[0m         \u001b[0mself\u001b[0m\u001b[1;33m.\u001b[0m\u001b[0mgenerate_from_frequencies\u001b[0m\u001b[1;33m(\u001b[0m\u001b[0mwords\u001b[0m\u001b[1;33m)\u001b[0m\u001b[1;33m\u001b[0m\u001b[0m\n\u001b[0;32m    588\u001b[0m         \u001b[1;32mreturn\u001b[0m \u001b[0mself\u001b[0m\u001b[1;33m\u001b[0m\u001b[0m\n",
      "\u001b[1;32m~\\Anaconda3\\lib\\site-packages\\wordcloud\\wordcloud.py\u001b[0m in \u001b[0;36mprocess_text\u001b[1;34m(self, text)\u001b[0m\n\u001b[0;32m    551\u001b[0m         \u001b[0mregexp\u001b[0m \u001b[1;33m=\u001b[0m \u001b[0mself\u001b[0m\u001b[1;33m.\u001b[0m\u001b[0mregexp\u001b[0m \u001b[1;32mif\u001b[0m \u001b[0mself\u001b[0m\u001b[1;33m.\u001b[0m\u001b[0mregexp\u001b[0m \u001b[1;32mis\u001b[0m \u001b[1;32mnot\u001b[0m \u001b[1;32mNone\u001b[0m \u001b[1;32melse\u001b[0m \u001b[1;34mr\"\\w[\\w']+\"\u001b[0m\u001b[1;33m\u001b[0m\u001b[0m\n\u001b[0;32m    552\u001b[0m \u001b[1;33m\u001b[0m\u001b[0m\n\u001b[1;32m--> 553\u001b[1;33m         \u001b[0mwords\u001b[0m \u001b[1;33m=\u001b[0m \u001b[0mre\u001b[0m\u001b[1;33m.\u001b[0m\u001b[0mfindall\u001b[0m\u001b[1;33m(\u001b[0m\u001b[0mregexp\u001b[0m\u001b[1;33m,\u001b[0m \u001b[0mtext\u001b[0m\u001b[1;33m,\u001b[0m \u001b[0mflags\u001b[0m\u001b[1;33m)\u001b[0m\u001b[1;33m\u001b[0m\u001b[0m\n\u001b[0m\u001b[0;32m    554\u001b[0m         \u001b[1;31m# remove stopwords\u001b[0m\u001b[1;33m\u001b[0m\u001b[1;33m\u001b[0m\u001b[0m\n\u001b[0;32m    555\u001b[0m         \u001b[0mwords\u001b[0m \u001b[1;33m=\u001b[0m \u001b[1;33m[\u001b[0m\u001b[0mword\u001b[0m \u001b[1;32mfor\u001b[0m \u001b[0mword\u001b[0m \u001b[1;32min\u001b[0m \u001b[0mwords\u001b[0m \u001b[1;32mif\u001b[0m \u001b[0mword\u001b[0m\u001b[1;33m.\u001b[0m\u001b[0mlower\u001b[0m\u001b[1;33m(\u001b[0m\u001b[1;33m)\u001b[0m \u001b[1;32mnot\u001b[0m \u001b[1;32min\u001b[0m \u001b[0mstopwords\u001b[0m\u001b[1;33m]\u001b[0m\u001b[1;33m\u001b[0m\u001b[0m\n",
      "\u001b[1;32m~\\Anaconda3\\lib\\re.py\u001b[0m in \u001b[0;36mfindall\u001b[1;34m(pattern, string, flags)\u001b[0m\n\u001b[0;32m    220\u001b[0m \u001b[1;33m\u001b[0m\u001b[0m\n\u001b[0;32m    221\u001b[0m     Empty matches are included in the result.\"\"\"\n\u001b[1;32m--> 222\u001b[1;33m     \u001b[1;32mreturn\u001b[0m \u001b[0m_compile\u001b[0m\u001b[1;33m(\u001b[0m\u001b[0mpattern\u001b[0m\u001b[1;33m,\u001b[0m \u001b[0mflags\u001b[0m\u001b[1;33m)\u001b[0m\u001b[1;33m.\u001b[0m\u001b[0mfindall\u001b[0m\u001b[1;33m(\u001b[0m\u001b[0mstring\u001b[0m\u001b[1;33m)\u001b[0m\u001b[1;33m\u001b[0m\u001b[0m\n\u001b[0m\u001b[0;32m    223\u001b[0m \u001b[1;33m\u001b[0m\u001b[0m\n\u001b[0;32m    224\u001b[0m \u001b[1;32mdef\u001b[0m \u001b[0mfinditer\u001b[0m\u001b[1;33m(\u001b[0m\u001b[0mpattern\u001b[0m\u001b[1;33m,\u001b[0m \u001b[0mstring\u001b[0m\u001b[1;33m,\u001b[0m \u001b[0mflags\u001b[0m\u001b[1;33m=\u001b[0m\u001b[1;36m0\u001b[0m\u001b[1;33m)\u001b[0m\u001b[1;33m:\u001b[0m\u001b[1;33m\u001b[0m\u001b[0m\n",
      "\u001b[1;31mTypeError\u001b[0m: expected string or bytes-like object"
     ]
    }
   ],
   "source": [
    "from wordcloud import WordCloud, STOPWORDS\n",
    "\n",
    "wc = WordCloud(max_words=50, max_font_size=35)\n",
    "wc.generate(\" \".join([i for i in df.text]))\n",
    "\n",
    "word_list = []\n",
    "freq_list = []\n",
    "fontsize_list = []\n",
    "position_list = []\n",
    "orientation_list = []\n",
    "color_list = []\n",
    "\n",
    "for (word, freq), fontsize, position, orientation, color in wc.layout_:\n",
    "    word_list.append(word)\n",
    "    freq_list.append(freq)\n",
    "    fontsize_list.append(fontsize)\n",
    "    position_list.append(position)\n",
    "    orientation_list.append(orientation)\n",
    "    color_list.append(color)"
   ]
  },
  {
   "cell_type": "code",
   "execution_count": null,
   "metadata": {},
   "outputs": [],
   "source": []
  }
 ],
 "metadata": {
  "kernelspec": {
   "display_name": "Python 3",
   "language": "python",
   "name": "python3"
  },
  "language_info": {
   "codemirror_mode": {
    "name": "ipython",
    "version": 3
   },
   "file_extension": ".py",
   "mimetype": "text/x-python",
   "name": "python",
   "nbconvert_exporter": "python",
   "pygments_lexer": "ipython3",
   "version": "3.6.5"
  }
 },
 "nbformat": 4,
 "nbformat_minor": 2
}