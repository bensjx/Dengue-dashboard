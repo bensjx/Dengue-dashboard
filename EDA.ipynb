{
 "cells": [
  {
   "cell_type": "code",
   "execution_count": 7,
   "metadata": {},
   "outputs": [],
   "source": [
    "# General libraries\n",
    "import pandas as pd\n",
    "import geopandas as gpd\n",
    "import regex as re\n"
   ]
  },
  {
   "cell_type": "code",
   "execution_count": 2,
   "metadata": {},
   "outputs": [],
   "source": [
    "central_cases = gpd.read_file(\"data/dengue-cases-central-geojson.geojson\")"
   ]
  },
  {
   "cell_type": "code",
   "execution_count": 21,
   "metadata": {},
   "outputs": [
    {
     "output_type": "execute_result",
     "data": {
      "text/plain": "807"
     },
     "metadata": {},
     "execution_count": 21
    }
   ],
   "source": [
    "sum(central_cases.Description.map(lambda x: int(re.search(r\"(<td>.*?</td>)\", x).group(0)[4:-5])))"
   ]
  },
  {
   "cell_type": "code",
   "execution_count": 32,
   "metadata": {},
   "outputs": [],
   "source": [
    "import tweepy as tw\n",
    "import pprint\n",
    "\n",
    "from keys import (\n",
    "    twitter_consumer_key,\n",
    "    twitter_consumer_secret,\n",
    "    twitter_access_token,\n",
    "    twitter_access_token_secret,\n",
    ")\n",
    "\n",
    "auth = tw.OAuthHandler(twitter_consumer_key, twitter_consumer_secret)\n",
    "auth.set_access_token(twitter_access_token, twitter_access_token_secret)\n",
    "api = tw.API(auth, wait_on_rate_limit=True)"
   ]
  },
  {
   "cell_type": "code",
   "execution_count": 38,
   "metadata": {
    "tags": []
   },
   "outputs": [
    {
     "output_type": "stream",
     "name": "stdout",
     "text": "{'contributors': None,\n 'coordinates': None,\n 'created_at': 'Thu Aug 06 15:18:49 +0000 2020',\n 'entities': {'hashtags': [],\n              'symbols': [],\n              'urls': [{'display_url': 'news18.com/news/india/31-…',\n                        'expanded_url': 'https://www.news18.com/news/india/31-dengue-cases-in-delhi-till-august-1-fever-clinics-set-up-campaigns-intensified-2764327.html',\n                        'indices': [93, 116],\n                        'url': 'https://t.co/xyNbt9TYtG'}],\n              'user_mentions': []},\n 'favorite_count': 0,\n 'favorited': False,\n 'geo': None,\n 'id': 1291393298683162626,\n 'id_str': '1291393298683162626',\n 'in_reply_to_screen_name': None,\n 'in_reply_to_status_id': None,\n 'in_reply_to_status_id_str': None,\n 'in_reply_to_user_id': None,\n 'in_reply_to_user_id_str': None,\n 'is_quote_status': False,\n 'lang': 'en',\n 'metadata': {'iso_language_code': 'en', 'result_type': 'recent'},\n 'place': None,\n 'possibly_sensitive': False,\n 'retweet_count': 0,\n 'retweeted': False,\n 'source': '<a href=\"https://about.twitter.com/products/tweetdeck\" '\n           'rel=\"nofollow\">TweetDeck</a>',\n 'text': 'Over 30 cases of dengue have been reported in the national capital '\n         'till August 1 this year.\\n'\n         '\\n'\n         'https://t.co/xyNbt9TYtG',\n 'truncated': False,\n 'user': {'contributors_enabled': False,\n          'created_at': 'Wed Apr 20 06:14:32 +0000 2011',\n          'default_profile': True,\n          'default_profile_image': False,\n          'description': 'More than just news, analysis & opinion. The digital '\n                         'platform of @CNNnews18\\n'\n                         '\\n'\n                         \"We're now on Telegram: https://t.co/4JMWUefhbD\",\n          'entities': {'description': {'urls': [{'display_url': 't.me/news18dotcom',\n                                                 'expanded_url': 'https://t.me/news18dotcom',\n                                                 'indices': [100, 123],\n                                                 'url': 'https://t.co/4JMWUefhbD'}]},\n                       'url': {'urls': [{'display_url': 'news18.com',\n                                         'expanded_url': 'https://www.news18.com',\n                                         'indices': [0, 23],\n                                         'url': 'https://t.co/0HnxPgwuLD'}]}},\n          'favourites_count': 41,\n          'follow_request_sent': False,\n          'followers_count': 143838,\n          'following': False,\n          'friends_count': 167,\n          'geo_enabled': False,\n          'has_extended_profile': False,\n          'id': 284920800,\n          'id_str': '284920800',\n          'is_translation_enabled': False,\n          'is_translator': False,\n          'lang': None,\n          'listed_count': 788,\n          'location': 'India',\n          'name': 'News18.com',\n          'notifications': False,\n          'profile_background_color': 'C0DEED',\n          'profile_background_image_url': 'http://abs.twimg.com/images/themes/theme1/bg.png',\n          'profile_background_image_url_https': 'https://abs.twimg.com/images/themes/theme1/bg.png',\n          'profile_background_tile': False,\n          'profile_banner_url': 'https://pbs.twimg.com/profile_banners/284920800/1578042922',\n          'profile_image_url': 'http://pbs.twimg.com/profile_images/1162274270212308993/VISZ-o80_normal.jpg',\n          'profile_image_url_https': 'https://pbs.twimg.com/profile_images/1162274270212308993/VISZ-o80_normal.jpg',\n          'profile_link_color': '1DA1F2',\n          'profile_sidebar_border_color': 'C0DEED',\n          'profile_sidebar_fill_color': 'DDEEF6',\n          'profile_text_color': '333333',\n          'profile_use_background_image': True,\n          'protected': False,\n          'screen_name': 'news18dotcom',\n          'statuses_count': 156439,\n          'time_zone': None,\n          'translator_type': 'none',\n          'url': 'https://t.co/0HnxPgwuLD',\n          'utc_offset': None,\n          'verified': True}}\n"
    }
   ],
   "source": [
    "search_term = \"dengue -filter:retweets\"\n",
    "\n",
    "tweets = tw.Cursor(api.search,\n",
    "                   q=search_term,\n",
    "                   lang=\"en\",\n",
    "                   since='2018-04-23').items(1)\n",
    "\n",
    "all_tweets = [tweet for tweet in tweets]\n",
    "pprint.pprint(all_tweets[0]._json)"
   ]
  },
  {
   "cell_type": "code",
   "execution_count": null,
   "metadata": {},
   "outputs": [],
   "source": []
  }
 ],
 "metadata": {
  "kernelspec": {
   "display_name": "Python 3",
   "language": "python",
   "name": "python3"
  },
  "language_info": {
   "codemirror_mode": {
    "name": "ipython",
    "version": 3
   },
   "file_extension": ".py",
   "mimetype": "text/x-python",
   "name": "python",
   "nbconvert_exporter": "python",
   "pygments_lexer": "ipython3",
   "version": "3.6.5"
  }
 },
 "nbformat": 4,
 "nbformat_minor": 2
}